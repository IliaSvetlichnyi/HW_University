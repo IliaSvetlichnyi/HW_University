{
 "cells": [
  {
   "cell_type": "code",
   "execution_count": 1,
   "metadata": {},
   "outputs": [],
   "source": [
    "import pandas as pd\n",
    "from ANNbuilder import build_network\n",
    "from pso import optimize\n",
    "from loss import mse_loss, cross_entropy\n",
    "import numpy as np\n",
    "from sklearn.metrics import classification_report"
   ]
  },
  {
   "cell_type": "code",
   "execution_count": 2,
   "metadata": {},
   "outputs": [
    {
     "data": {
      "text/html": [
       "<div>\n",
       "<style scoped>\n",
       "    .dataframe tbody tr th:only-of-type {\n",
       "        vertical-align: middle;\n",
       "    }\n",
       "\n",
       "    .dataframe tbody tr th {\n",
       "        vertical-align: top;\n",
       "    }\n",
       "\n",
       "    .dataframe thead th {\n",
       "        text-align: right;\n",
       "    }\n",
       "</style>\n",
       "<table border=\"1\" class=\"dataframe\">\n",
       "  <thead>\n",
       "    <tr style=\"text-align: right;\">\n",
       "      <th></th>\n",
       "      <th>0</th>\n",
       "      <th>1</th>\n",
       "      <th>2</th>\n",
       "      <th>3</th>\n",
       "      <th>4</th>\n",
       "    </tr>\n",
       "  </thead>\n",
       "  <tbody>\n",
       "    <tr>\n",
       "      <th>0</th>\n",
       "      <td>3.62160</td>\n",
       "      <td>8.6661</td>\n",
       "      <td>-2.8073</td>\n",
       "      <td>-0.44699</td>\n",
       "      <td>0</td>\n",
       "    </tr>\n",
       "    <tr>\n",
       "      <th>1</th>\n",
       "      <td>4.54590</td>\n",
       "      <td>8.1674</td>\n",
       "      <td>-2.4586</td>\n",
       "      <td>-1.46210</td>\n",
       "      <td>0</td>\n",
       "    </tr>\n",
       "    <tr>\n",
       "      <th>2</th>\n",
       "      <td>3.86600</td>\n",
       "      <td>-2.6383</td>\n",
       "      <td>1.9242</td>\n",
       "      <td>0.10645</td>\n",
       "      <td>0</td>\n",
       "    </tr>\n",
       "    <tr>\n",
       "      <th>3</th>\n",
       "      <td>3.45660</td>\n",
       "      <td>9.5228</td>\n",
       "      <td>-4.0112</td>\n",
       "      <td>-3.59440</td>\n",
       "      <td>0</td>\n",
       "    </tr>\n",
       "    <tr>\n",
       "      <th>4</th>\n",
       "      <td>0.32924</td>\n",
       "      <td>-4.4552</td>\n",
       "      <td>4.5718</td>\n",
       "      <td>-0.98880</td>\n",
       "      <td>0</td>\n",
       "    </tr>\n",
       "  </tbody>\n",
       "</table>\n",
       "</div>"
      ],
      "text/plain": [
       "         0       1       2        3  4\n",
       "0  3.62160  8.6661 -2.8073 -0.44699  0\n",
       "1  4.54590  8.1674 -2.4586 -1.46210  0\n",
       "2  3.86600 -2.6383  1.9242  0.10645  0\n",
       "3  3.45660  9.5228 -4.0112 -3.59440  0\n",
       "4  0.32924 -4.4552  4.5718 -0.98880  0"
      ]
     },
     "execution_count": 2,
     "metadata": {},
     "output_type": "execute_result"
    }
   ],
   "source": [
    "data = pd.read_csv(\"banknote_authentication.csv\", header=None)\n",
    "data.head()"
   ]
  },
  {
   "cell_type": "code",
   "execution_count": 3,
   "metadata": {},
   "outputs": [
    {
     "data": {
      "text/plain": [
       "(1372, 5)"
      ]
     },
     "execution_count": 3,
     "metadata": {},
     "output_type": "execute_result"
    }
   ],
   "source": [
    "data.shape"
   ]
  },
  {
   "cell_type": "code",
   "execution_count": 4,
   "metadata": {},
   "outputs": [
    {
     "data": {
      "text/plain": [
       "Index([0, 1, 2, 3, 4], dtype='int64')"
      ]
     },
     "execution_count": 4,
     "metadata": {},
     "output_type": "execute_result"
    }
   ],
   "source": [
    "data.columns"
   ]
  },
  {
   "cell_type": "code",
   "execution_count": 5,
   "metadata": {},
   "outputs": [],
   "source": [
    "X = data.drop(4, axis=1).values\n",
    "y = data[4].values.reshape(-1, 1)"
   ]
  },
  {
   "cell_type": "code",
   "execution_count": 6,
   "metadata": {},
   "outputs": [
    {
     "data": {
      "text/plain": [
       "array([[ 3.6216 ,  8.6661 , -2.8073 , -0.44699],\n",
       "       [ 4.5459 ,  8.1674 , -2.4586 , -1.4621 ],\n",
       "       [ 3.866  , -2.6383 ,  1.9242 ,  0.10645],\n",
       "       [ 3.4566 ,  9.5228 , -4.0112 , -3.5944 ],\n",
       "       [ 0.32924, -4.4552 ,  4.5718 , -0.9888 ]])"
      ]
     },
     "execution_count": 6,
     "metadata": {},
     "output_type": "execute_result"
    }
   ],
   "source": [
    "X[:5]"
   ]
  },
  {
   "cell_type": "code",
   "execution_count": 7,
   "metadata": {},
   "outputs": [],
   "source": [
    "# Data separation and scaling\n",
    "from sklearn.model_selection import train_test_split\n",
    "from sklearn.preprocessing import MinMaxScaler\n",
    "\n",
    "X_train, X_test, y_train, y_test = train_test_split(X, y, test_size=0.2, random_state=42)\n",
    "\n",
    "scaler = MinMaxScaler()\n",
    "X_train_scaled = scaler.fit_transform(X_train)\n",
    "X_test_scaled = scaler.transform(X_test)"
   ]
  },
  {
   "cell_type": "code",
   "execution_count": 22,
   "metadata": {},
   "outputs": [
    {
     "name": "stdout",
     "output_type": "stream",
     "text": [
      "Epoch 0/150 - Current Best Loss: 0.5597 - Global Best Loss: 0.5597\n",
      "Epoch 1/150 - Current Best Loss: 0.2936 - Global Best Loss: 0.2936\n",
      "Epoch 2/150 - Current Best Loss: 0.2612 - Global Best Loss: 0.2612\n",
      "Epoch 3/150 - Current Best Loss: 0.2217 - Global Best Loss: 0.2217\n",
      "Epoch 4/150 - Current Best Loss: 0.2217 - Global Best Loss: 0.2217\n",
      "Epoch 5/150 - Current Best Loss: 0.2015 - Global Best Loss: 0.2015\n",
      "Epoch 6/150 - Current Best Loss: 0.2015 - Global Best Loss: 0.2015\n",
      "Epoch 7/150 - Current Best Loss: 0.2015 - Global Best Loss: 0.2015\n",
      "Epoch 8/150 - Current Best Loss: 0.2015 - Global Best Loss: 0.2015\n",
      "Epoch 9/150 - Current Best Loss: 0.2015 - Global Best Loss: 0.2015\n",
      "Epoch 10/150 - Current Best Loss: 0.2015 - Global Best Loss: 0.2015\n",
      "Epoch 11/150 - Current Best Loss: 0.2015 - Global Best Loss: 0.2015\n",
      "Epoch 12/150 - Current Best Loss: 0.1933 - Global Best Loss: 0.1933\n",
      "Epoch 13/150 - Current Best Loss: 0.1887 - Global Best Loss: 0.1887\n",
      "Epoch 14/150 - Current Best Loss: 0.1841 - Global Best Loss: 0.1841\n",
      "Epoch 15/150 - Current Best Loss: 0.1841 - Global Best Loss: 0.1841\n",
      "Epoch 16/150 - Current Best Loss: 0.1832 - Global Best Loss: 0.1832\n",
      "Epoch 17/150 - Current Best Loss: 0.1832 - Global Best Loss: 0.1832\n",
      "Epoch 18/150 - Current Best Loss: 0.1832 - Global Best Loss: 0.1832\n",
      "Epoch 19/150 - Current Best Loss: 0.1832 - Global Best Loss: 0.1832\n",
      "Epoch 20/150 - Current Best Loss: 0.1832 - Global Best Loss: 0.1832\n",
      "Epoch 21/150 - Current Best Loss: 0.1832 - Global Best Loss: 0.1832\n",
      "Epoch 22/150 - Current Best Loss: 0.1832 - Global Best Loss: 0.1832\n",
      "Epoch 23/150 - Current Best Loss: 0.1832 - Global Best Loss: 0.1832\n",
      "Epoch 24/150 - Current Best Loss: 0.1832 - Global Best Loss: 0.1832\n",
      "Epoch 25/150 - Current Best Loss: 0.1832 - Global Best Loss: 0.1832\n",
      "Epoch 26/150 - Current Best Loss: 0.1832 - Global Best Loss: 0.1832\n",
      "Epoch 27/150 - Current Best Loss: 0.1832 - Global Best Loss: 0.1832\n",
      "Epoch 28/150 - Current Best Loss: 0.1832 - Global Best Loss: 0.1832\n",
      "Epoch 29/150 - Current Best Loss: 0.1832 - Global Best Loss: 0.1832\n",
      "Epoch 30/150 - Current Best Loss: 0.1832 - Global Best Loss: 0.1832\n",
      "Epoch 31/150 - Current Best Loss: 0.1832 - Global Best Loss: 0.1832\n",
      "Epoch 32/150 - Current Best Loss: 0.1832 - Global Best Loss: 0.1832\n",
      "Epoch 33/150 - Current Best Loss: 0.1832 - Global Best Loss: 0.1832\n",
      "Epoch 34/150 - Current Best Loss: 0.1832 - Global Best Loss: 0.1832\n",
      "Epoch 35/150 - Current Best Loss: 0.1832 - Global Best Loss: 0.1832\n",
      "Epoch 36/150 - Current Best Loss: 0.1832 - Global Best Loss: 0.1832\n",
      "Epoch 37/150 - Current Best Loss: 0.1832 - Global Best Loss: 0.1832\n",
      "Epoch 38/150 - Current Best Loss: 0.1832 - Global Best Loss: 0.1832\n",
      "Epoch 39/150 - Current Best Loss: 0.1832 - Global Best Loss: 0.1832\n",
      "Epoch 40/150 - Current Best Loss: 0.1832 - Global Best Loss: 0.1832\n",
      "Epoch 41/150 - Current Best Loss: 0.1832 - Global Best Loss: 0.1832\n",
      "Epoch 42/150 - Current Best Loss: 0.1832 - Global Best Loss: 0.1832\n",
      "Epoch 43/150 - Current Best Loss: 0.1832 - Global Best Loss: 0.1832\n",
      "Epoch 44/150 - Current Best Loss: 0.1832 - Global Best Loss: 0.1832\n",
      "Epoch 45/150 - Current Best Loss: 0.1832 - Global Best Loss: 0.1832\n",
      "Epoch 46/150 - Current Best Loss: 0.1832 - Global Best Loss: 0.1832\n",
      "Epoch 47/150 - Current Best Loss: 0.1832 - Global Best Loss: 0.1832\n",
      "Epoch 48/150 - Current Best Loss: 0.1832 - Global Best Loss: 0.1832\n",
      "Epoch 49/150 - Current Best Loss: 0.1832 - Global Best Loss: 0.1832\n",
      "Epoch 50/150 - Current Best Loss: 0.1832 - Global Best Loss: 0.1832\n",
      "Epoch 51/150 - Current Best Loss: 0.1832 - Global Best Loss: 0.1832\n",
      "Epoch 52/150 - Current Best Loss: 0.1832 - Global Best Loss: 0.1832\n",
      "Epoch 53/150 - Current Best Loss: 0.1832 - Global Best Loss: 0.1832\n",
      "Epoch 54/150 - Current Best Loss: 0.1832 - Global Best Loss: 0.1832\n",
      "Epoch 55/150 - Current Best Loss: 0.1832 - Global Best Loss: 0.1832\n",
      "Epoch 56/150 - Current Best Loss: 0.1832 - Global Best Loss: 0.1832\n",
      "Epoch 57/150 - Current Best Loss: 0.1832 - Global Best Loss: 0.1832\n",
      "Epoch 58/150 - Current Best Loss: 0.1832 - Global Best Loss: 0.1832\n",
      "Epoch 59/150 - Current Best Loss: 0.1832 - Global Best Loss: 0.1832\n",
      "Epoch 60/150 - Current Best Loss: 0.1832 - Global Best Loss: 0.1832\n",
      "Epoch 61/150 - Current Best Loss: 0.1832 - Global Best Loss: 0.1832\n",
      "Epoch 62/150 - Current Best Loss: 0.1832 - Global Best Loss: 0.1832\n",
      "Epoch 63/150 - Current Best Loss: 0.1832 - Global Best Loss: 0.1832\n",
      "Epoch 64/150 - Current Best Loss: 0.1832 - Global Best Loss: 0.1832\n",
      "Epoch 65/150 - Current Best Loss: 0.1832 - Global Best Loss: 0.1832\n",
      "Epoch 66/150 - Current Best Loss: 0.1832 - Global Best Loss: 0.1832\n",
      "Epoch 67/150 - Current Best Loss: 0.1832 - Global Best Loss: 0.1832\n",
      "Epoch 68/150 - Current Best Loss: 0.1832 - Global Best Loss: 0.1832\n",
      "Epoch 69/150 - Current Best Loss: 0.1832 - Global Best Loss: 0.1832\n",
      "Epoch 70/150 - Current Best Loss: 0.1832 - Global Best Loss: 0.1832\n",
      "Epoch 71/150 - Current Best Loss: 0.1832 - Global Best Loss: 0.1832\n",
      "Epoch 72/150 - Current Best Loss: 0.1832 - Global Best Loss: 0.1832\n",
      "Epoch 73/150 - Current Best Loss: 0.1832 - Global Best Loss: 0.1832\n",
      "Epoch 74/150 - Current Best Loss: 0.1832 - Global Best Loss: 0.1832\n",
      "Epoch 75/150 - Current Best Loss: 0.1832 - Global Best Loss: 0.1832\n",
      "Epoch 76/150 - Current Best Loss: 0.1832 - Global Best Loss: 0.1832\n",
      "Epoch 77/150 - Current Best Loss: 0.1832 - Global Best Loss: 0.1832\n",
      "Epoch 78/150 - Current Best Loss: 0.1832 - Global Best Loss: 0.1832\n",
      "Epoch 79/150 - Current Best Loss: 0.1832 - Global Best Loss: 0.1832\n",
      "Epoch 80/150 - Current Best Loss: 0.1832 - Global Best Loss: 0.1832\n",
      "Epoch 81/150 - Current Best Loss: 0.1832 - Global Best Loss: 0.1832\n",
      "Epoch 82/150 - Current Best Loss: 0.1832 - Global Best Loss: 0.1832\n",
      "Epoch 83/150 - Current Best Loss: 0.1832 - Global Best Loss: 0.1832\n",
      "Epoch 84/150 - Current Best Loss: 0.1832 - Global Best Loss: 0.1832\n",
      "Epoch 85/150 - Current Best Loss: 0.1832 - Global Best Loss: 0.1832\n",
      "Epoch 86/150 - Current Best Loss: 0.1832 - Global Best Loss: 0.1832\n",
      "Epoch 87/150 - Current Best Loss: 0.1832 - Global Best Loss: 0.1832\n",
      "Epoch 88/150 - Current Best Loss: 0.1832 - Global Best Loss: 0.1832\n",
      "Epoch 89/150 - Current Best Loss: 0.1832 - Global Best Loss: 0.1832\n",
      "Epoch 90/150 - Current Best Loss: 0.1832 - Global Best Loss: 0.1832\n",
      "Epoch 91/150 - Current Best Loss: 0.1832 - Global Best Loss: 0.1832\n",
      "Epoch 92/150 - Current Best Loss: 0.1832 - Global Best Loss: 0.1832\n",
      "Epoch 93/150 - Current Best Loss: 0.1832 - Global Best Loss: 0.1832\n",
      "Epoch 94/150 - Current Best Loss: 0.1832 - Global Best Loss: 0.1832\n",
      "Epoch 95/150 - Current Best Loss: 0.1832 - Global Best Loss: 0.1832\n",
      "Epoch 96/150 - Current Best Loss: 0.1832 - Global Best Loss: 0.1832\n",
      "Epoch 97/150 - Current Best Loss: 0.1832 - Global Best Loss: 0.1832\n",
      "Epoch 98/150 - Current Best Loss: 0.1832 - Global Best Loss: 0.1832\n",
      "Epoch 99/150 - Current Best Loss: 0.1832 - Global Best Loss: 0.1832\n",
      "Epoch 100/150 - Current Best Loss: 0.1832 - Global Best Loss: 0.1832\n",
      "Epoch 101/150 - Current Best Loss: 0.1832 - Global Best Loss: 0.1832\n",
      "Epoch 102/150 - Current Best Loss: 0.1832 - Global Best Loss: 0.1832\n",
      "Epoch 103/150 - Current Best Loss: 0.1832 - Global Best Loss: 0.1832\n",
      "Epoch 104/150 - Current Best Loss: 0.1832 - Global Best Loss: 0.1832\n",
      "Epoch 105/150 - Current Best Loss: 0.1832 - Global Best Loss: 0.1832\n",
      "Epoch 106/150 - Current Best Loss: 0.1832 - Global Best Loss: 0.1832\n",
      "Epoch 107/150 - Current Best Loss: 0.1832 - Global Best Loss: 0.1832\n",
      "Epoch 108/150 - Current Best Loss: 0.1832 - Global Best Loss: 0.1832\n",
      "Epoch 109/150 - Current Best Loss: 0.1832 - Global Best Loss: 0.1832\n",
      "Epoch 110/150 - Current Best Loss: 0.1832 - Global Best Loss: 0.1832\n",
      "Epoch 111/150 - Current Best Loss: 0.1832 - Global Best Loss: 0.1832\n",
      "Epoch 112/150 - Current Best Loss: 0.1832 - Global Best Loss: 0.1832\n",
      "Epoch 113/150 - Current Best Loss: 0.1832 - Global Best Loss: 0.1832\n",
      "Epoch 114/150 - Current Best Loss: 0.1832 - Global Best Loss: 0.1832\n",
      "Epoch 115/150 - Current Best Loss: 0.1832 - Global Best Loss: 0.1832\n",
      "Epoch 116/150 - Current Best Loss: 0.1832 - Global Best Loss: 0.1832\n",
      "Epoch 117/150 - Current Best Loss: 0.1832 - Global Best Loss: 0.1832\n",
      "Epoch 118/150 - Current Best Loss: 0.1832 - Global Best Loss: 0.1832\n",
      "Epoch 119/150 - Current Best Loss: 0.1832 - Global Best Loss: 0.1832\n",
      "Epoch 120/150 - Current Best Loss: 0.1832 - Global Best Loss: 0.1832\n",
      "Epoch 121/150 - Current Best Loss: 0.1832 - Global Best Loss: 0.1832\n",
      "Epoch 122/150 - Current Best Loss: 0.1832 - Global Best Loss: 0.1832\n",
      "Epoch 123/150 - Current Best Loss: 0.1832 - Global Best Loss: 0.1832\n",
      "Epoch 124/150 - Current Best Loss: 0.1832 - Global Best Loss: 0.1832\n",
      "Epoch 125/150 - Current Best Loss: 0.1832 - Global Best Loss: 0.1832\n",
      "Epoch 126/150 - Current Best Loss: 0.1832 - Global Best Loss: 0.1832\n",
      "Epoch 127/150 - Current Best Loss: 0.1832 - Global Best Loss: 0.1832\n",
      "Epoch 128/150 - Current Best Loss: 0.1832 - Global Best Loss: 0.1832\n",
      "Epoch 129/150 - Current Best Loss: 0.1832 - Global Best Loss: 0.1832\n",
      "Epoch 130/150 - Current Best Loss: 0.1832 - Global Best Loss: 0.1832\n",
      "Epoch 131/150 - Current Best Loss: 0.1832 - Global Best Loss: 0.1832\n",
      "Epoch 132/150 - Current Best Loss: 0.1832 - Global Best Loss: 0.1832\n",
      "Epoch 133/150 - Current Best Loss: 0.1832 - Global Best Loss: 0.1832\n",
      "Epoch 134/150 - Current Best Loss: 0.1832 - Global Best Loss: 0.1832\n",
      "Epoch 135/150 - Current Best Loss: 0.1832 - Global Best Loss: 0.1832\n",
      "Epoch 136/150 - Current Best Loss: 0.1832 - Global Best Loss: 0.1832\n",
      "Epoch 137/150 - Current Best Loss: 0.1832 - Global Best Loss: 0.1832\n",
      "Epoch 138/150 - Current Best Loss: 0.1832 - Global Best Loss: 0.1832\n",
      "Epoch 139/150 - Current Best Loss: 0.1832 - Global Best Loss: 0.1832\n",
      "Epoch 140/150 - Current Best Loss: 0.1832 - Global Best Loss: 0.1832\n",
      "Epoch 141/150 - Current Best Loss: 0.1832 - Global Best Loss: 0.1832\n",
      "Epoch 142/150 - Current Best Loss: 0.1832 - Global Best Loss: 0.1832\n",
      "Epoch 143/150 - Current Best Loss: 0.1832 - Global Best Loss: 0.1832\n",
      "Epoch 144/150 - Current Best Loss: 0.1832 - Global Best Loss: 0.1832\n",
      "Epoch 145/150 - Current Best Loss: 0.1832 - Global Best Loss: 0.1832\n",
      "Epoch 146/150 - Current Best Loss: 0.1832 - Global Best Loss: 0.1832\n",
      "Epoch 147/150 - Current Best Loss: 0.1832 - Global Best Loss: 0.1832\n",
      "Epoch 148/150 - Current Best Loss: 0.1832 - Global Best Loss: 0.1832\n",
      "Epoch 149/150 - Current Best Loss: 0.1832 - Global Best Loss: 0.1832\n",
      "Accuracy: 0.5381818181818182\n",
      "              precision    recall  f1-score   support\n",
      "\n",
      "           0       0.54      1.00      0.70       148\n",
      "           1       0.00      0.00      0.00       127\n",
      "\n",
      "    accuracy                           0.54       275\n",
      "   macro avg       0.27      0.50      0.35       275\n",
      "weighted avg       0.29      0.54      0.38       275\n",
      "\n"
     ]
    },
    {
     "name": "stderr",
     "output_type": "stream",
     "text": [
      "/Users/ilya/mainvenv/lib/python3.10/site-packages/sklearn/metrics/_classification.py:1344: UndefinedMetricWarning: Precision and F-score are ill-defined and being set to 0.0 in labels with no predicted samples. Use `zero_division` parameter to control this behavior.\n",
      "  _warn_prf(average, modifier, msg_start, len(result))\n",
      "/Users/ilya/mainvenv/lib/python3.10/site-packages/sklearn/metrics/_classification.py:1344: UndefinedMetricWarning: Precision and F-score are ill-defined and being set to 0.0 in labels with no predicted samples. Use `zero_division` parameter to control this behavior.\n",
      "  _warn_prf(average, modifier, msg_start, len(result))\n",
      "/Users/ilya/mainvenv/lib/python3.10/site-packages/sklearn/metrics/_classification.py:1344: UndefinedMetricWarning: Precision and F-score are ill-defined and being set to 0.0 in labels with no predicted samples. Use `zero_division` parameter to control this behavior.\n",
      "  _warn_prf(average, modifier, msg_start, len(result))\n"
     ]
    }
   ],
   "source": [
    "from sklearn.metrics import classification_report\n",
    "\n",
    "# Defining architecture and parameters\n",
    "architecture = [4, 8, 8, 1]  # New architecture\n",
    "activations = [\"tanh\", \"relu\", \"logistic\"]\n",
    "network = build_network(architecture, activations)\n",
    "\n",
    "# Network Training\n",
    "dimensions = sum([layer.weights.size + layer.biases.size for layer in network.layers])\n",
    "optimize(network, X_train_scaled, y_train, dimensions, loss_function=mse_loss)\n",
    "\n",
    "# Network Testing\n",
    "output = network.forward(X_test_scaled)\n",
    "predictions = (output > 0.5).astype(int)\n",
    "\n",
    "print(\"Accuracy:\", (predictions == y_test).mean())\n",
    "print(classification_report(y_test, predictions))"
   ]
  },
  {
   "cell_type": "code",
   "execution_count": null,
   "metadata": {},
   "outputs": [],
   "source": []
  }
 ],
 "metadata": {
  "kernelspec": {
   "display_name": "Python 3.10 (mainvenv)",
   "language": "python",
   "name": "mainenv"
  },
  "language_info": {
   "codemirror_mode": {
    "name": "ipython",
    "version": 3
   },
   "file_extension": ".py",
   "mimetype": "text/x-python",
   "name": "python",
   "nbconvert_exporter": "python",
   "pygments_lexer": "ipython3",
   "version": "3.10.10"
  }
 },
 "nbformat": 4,
 "nbformat_minor": 2
}
