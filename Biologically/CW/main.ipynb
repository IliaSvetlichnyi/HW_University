{
 "cells": [
  {
   "cell_type": "code",
   "execution_count": 1,
   "metadata": {},
   "outputs": [
    {
     "name": "stdout",
     "output_type": "stream",
     "text": [
      "Accuracy: 0.5550692924872356\n",
      "Predictions: [[7.12457641e-218]\n",
      " [7.12457641e-218]\n",
      " [7.12457641e-218]\n",
      " ...\n",
      " [7.12457641e-218]\n",
      " [7.12457641e-218]\n",
      " [7.12457641e-218]]\n",
      "True values: [[0]\n",
      " [0]\n",
      " [0]\n",
      " ...\n",
      " [1]\n",
      " [1]\n",
      " [1]]\n"
     ]
    }
   ],
   "source": [
    "import pandas as pd\n",
    "from ANNbuilder import build_network\n",
    "from pso import optimize\n",
    "from loss import mse_loss\n",
    "import numpy as np\n",
    "\n",
    "# 1. Загрузка и подготовка данных\n",
    "data_path = \"banknote_authentication.csv\"\n",
    "dataframe = pd.read_csv(data_path)\n",
    "\n",
    "data = dataframe.iloc[:, :-1].values\n",
    "target = dataframe.iloc[:, -1].values.reshape(-1, 1)\n",
    "\n",
    "# Нормализация (в качестве примера)\n",
    "data = (data - data.min(axis=0)) / (data.max(axis=0) - data.min(axis=0))\n",
    "\n",
    "# 2. Определение архитектуры и параметров\n",
    "architecture = [2, 8, 8, 1]  # Пример архитектуры\n",
    "activations = [\"relu\", \"logistic\"]\n",
    "network = build_network(architecture, activations)\n",
    "\n",
    "# 3. Тренировка сети\n",
    "dimensions = sum([layer.weights.size + layer.biases.size for layer in network.layers])\n",
    "expected_dimensions = network.total_weights()\n",
    "assert dimensions == expected_dimensions, f\"Expected {expected_dimensions} dimensions but got {dimensions}\"\n",
    "optimize(network, data, target, dimensions, loss_function=mse_loss)\n",
    "\n",
    "# 4. Тестирование сети\n",
    "output = network.forward(data)\n",
    "correct_predictions = np.where((output > 0.5) == target, 1, 0).sum()\n",
    "accuracy = correct_predictions / len(target)\n",
    "print(\"Accuracy:\", accuracy)\n",
    "print(\"Predictions:\", output)\n",
    "print(\"True values:\", target)"
   ]
  },
  {
   "cell_type": "code",
   "execution_count": null,
   "metadata": {},
   "outputs": [],
   "source": []
  }
 ],
 "metadata": {
  "kernelspec": {
   "display_name": "Python 3.10 (mainvenv)",
   "language": "python",
   "name": "mainenv"
  },
  "language_info": {
   "codemirror_mode": {
    "name": "ipython",
    "version": 3
   },
   "file_extension": ".py",
   "mimetype": "text/x-python",
   "name": "python",
   "nbconvert_exporter": "python",
   "pygments_lexer": "ipython3",
   "version": "3.10.10"
  }
 },
 "nbformat": 4,
 "nbformat_minor": 2
}
