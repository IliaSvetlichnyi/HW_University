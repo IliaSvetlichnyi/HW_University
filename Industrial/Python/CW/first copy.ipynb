{
 "cells": [
  {
   "cell_type": "code",
   "execution_count": 1,
   "metadata": {},
   "outputs": [],
   "source": [
    "import json\n",
    "import pandas as pd\n",
    "import matplotlib.pyplot as plt\n",
    "from also_like_graph import create_graph"
   ]
  },
  {
   "cell_type": "code",
   "execution_count": 5,
   "metadata": {},
   "outputs": [],
   "source": [
    "# Initialize an empty list to store JSON objects\n",
    "json_data = []\n",
    "\n",
    "# Load each JSON object from each line\n",
    "with open('/Users/ilya/Desktop/GitHub_Repositories/HW_University/Industrial/Python/CW/datasets/sample_600k_lines.json', 'r') as file:\n",
    "    for line in file:\n",
    "        try:\n",
    "            json_object = json.loads(line)\n",
    "            json_data.append(json_object)\n",
    "        except json.JSONDecodeError:\n",
    "            print(\"Error decoding JSON from line:\", line)\n",
    "\n",
    "# Convert the list of JSON objects to a DataFrame\n",
    "df = pd.DataFrame(json_data)"
   ]
  },
  {
   "cell_type": "code",
   "execution_count": 22,
   "metadata": {},
   "outputs": [
    {
     "data": {
      "text/plain": [
       "env_doc_id\n",
       "140212161253-b097edbd5f6c2a95b3e0c8ed3cb13af3    119\n",
       "130711094717-71ef362ab87870b23411460a3989221a    119\n",
       "131031235837-b6c4f99441138048649480c7f511b9bd    119\n",
       "120921183802-9bfb37355fb74aed813c560df52911df    119\n",
       "140301004052-00000000aced2d1554719e9377a71685    119\n",
       "120717162011-3a98d26b69cc46c79ce86716bb862d17    119\n",
       "140205055741-0addbae616a50bc90bed29c46eebbb20    119\n",
       "140130221220-e0e52e2bd8ac98792567552b1a1167fb    119\n",
       "131015134500-5ca1060dd9d249dc81f302838eb7b4a0    119\n",
       "140228231329-58a13ccdfff0f131171d96a8aedcbdbb    119\n",
       "140228181901-1f0f4f47b5e52ae358f5924fefcf4fb5    119\n",
       "120625154309-5da221e375284f08b8fdc11e8d59ef6c    119\n",
       "131216224510-b136a0ba9a60e8e10bf054a9efb986c6    119\n",
       "110408120710-a5ef74744b5e4945a556a2a7c4a5bb53    119\n",
       "100501120357-3dc1fb42a2b24ff1b763de7d0e570dcd    119\n",
       "140212151456-c7fd106111a594dda6683576fb62c44b    119\n",
       "140203025114-00000000b96e96bd9576a4e70e3cf878    119\n",
       "131216172959-ba293006256d9309704e022b249cc9aa    119\n",
       "131107162736-489a01c3ed10f1dbf1570fa5f98c117d    119\n",
       "140128065615-369784acf1c4c51a91944bdb3460852e    118\n",
       "140209213050-caee19014a5f03396468e5dc29f234b3    118\n",
       "140223233515-fdbf866be3c9f2cfc72456933396d82a    118\n",
       "140124130454-18d6a78d148b3c5c77b1914da222bd2f    118\n",
       "131029154045-c89607a24223b9dea9b7a411b102e5ea    118\n",
       "140213233450-989fb54eb9596d89b688039d8b20b98c    118\n",
       "Name: count, dtype: int64"
      ]
     },
     "execution_count": 22,
     "metadata": {},
     "output_type": "execute_result"
    }
   ],
   "source": [
    "# Get env_doc_id with number of occurrences 3\n",
    "\n",
    "df[\"env_doc_id\"].value_counts()[1000:1025]"
   ]
  },
  {
   "cell_type": "code",
   "execution_count": 10,
   "metadata": {},
   "outputs": [
    {
     "data": {
      "text/plain": [
       "'/Users/ilya/Desktop/GitHub_Repositories/HW_University/Industrial/Python/CW/also_likes_graph.pdf'"
      ]
     },
     "execution_count": 10,
     "metadata": {},
     "output_type": "execute_result"
    }
   ],
   "source": [
    "# document_id = \"110905130151-5a54b15068804cb094bf6ab8bd2e7b05\"\n",
    "# document_id = \"131015134500-5ca1060dd9d249dc81f302838eb7b4a0\"\n",
    "document_id = \"130711094717-71ef362ab87870b23411460a3989221a\"\n",
    "\n",
    "create_graph(document_id, df)"
   ]
  },
  {
   "cell_type": "code",
   "execution_count": 2,
   "metadata": {},
   "outputs": [
    {
     "data": {
      "text/html": [
       "<div>\n",
       "<style scoped>\n",
       "    .dataframe tbody tr th:only-of-type {\n",
       "        vertical-align: middle;\n",
       "    }\n",
       "\n",
       "    .dataframe tbody tr th {\n",
       "        vertical-align: top;\n",
       "    }\n",
       "\n",
       "    .dataframe thead th {\n",
       "        text-align: right;\n",
       "    }\n",
       "</style>\n",
       "<table border=\"1\" class=\"dataframe\">\n",
       "  <thead>\n",
       "    <tr style=\"text-align: right;\">\n",
       "      <th></th>\n",
       "      <th>ts</th>\n",
       "      <th>visitor_uuid</th>\n",
       "      <th>env_doc_id</th>\n",
       "    </tr>\n",
       "  </thead>\n",
       "  <tbody>\n",
       "    <tr>\n",
       "      <th>0</th>\n",
       "      <td>1701892037</td>\n",
       "      <td>visitor_005</td>\n",
       "      <td>doc_007</td>\n",
       "    </tr>\n",
       "    <tr>\n",
       "      <th>1</th>\n",
       "      <td>1701892037</td>\n",
       "      <td>visitor_008</td>\n",
       "      <td>doc_007</td>\n",
       "    </tr>\n",
       "    <tr>\n",
       "      <th>2</th>\n",
       "      <td>1701892037</td>\n",
       "      <td>visitor_001</td>\n",
       "      <td>doc_010</td>\n",
       "    </tr>\n",
       "    <tr>\n",
       "      <th>3</th>\n",
       "      <td>1701892037</td>\n",
       "      <td>visitor_011</td>\n",
       "      <td>doc_007</td>\n",
       "    </tr>\n",
       "    <tr>\n",
       "      <th>4</th>\n",
       "      <td>1701892037</td>\n",
       "      <td>visitor_013</td>\n",
       "      <td>doc_010</td>\n",
       "    </tr>\n",
       "  </tbody>\n",
       "</table>\n",
       "</div>"
      ],
      "text/plain": [
       "           ts visitor_uuid env_doc_id\n",
       "0  1701892037  visitor_005    doc_007\n",
       "1  1701892037  visitor_008    doc_007\n",
       "2  1701892037  visitor_001    doc_010\n",
       "3  1701892037  visitor_011    doc_007\n",
       "4  1701892037  visitor_013    doc_010"
      ]
     },
     "execution_count": 2,
     "metadata": {},
     "output_type": "execute_result"
    }
   ],
   "source": [
    "import pandas as pd\n",
    "import random\n",
    "import time\n",
    "\n",
    "# Sample document IDs and visitor UUIDs\n",
    "documents = [f\"doc_{i:03}\" for i in range(1, 11)]  # 10 documents\n",
    "visitors = [f\"visitor_{i:03}\" for i in range(1, 21)]  # 20 visitors\n",
    "\n",
    "# Create connections between documents and visitors\n",
    "data = []\n",
    "for _ in range(50):  # 50 interactions\n",
    "    doc = random.choice(documents)\n",
    "    visitor = random.choice(visitors)\n",
    "    ts = int(time.time())  # current timestamp\n",
    "    data.append({\n",
    "        \"ts\": ts,\n",
    "        \"visitor_uuid\": visitor,\n",
    "        \"env_doc_id\": doc\n",
    "    })\n",
    "\n",
    "# Create a DataFrame\n",
    "df_fake = pd.DataFrame(data)\n",
    "\n",
    "df_fake.head()  # Display the first few rows of the fake data to verify the structure"
   ]
  },
  {
   "cell_type": "code",
   "execution_count": 3,
   "metadata": {},
   "outputs": [
    {
     "data": {
      "text/plain": [
       "env_doc_id\n",
       "doc_007    9\n",
       "doc_010    7\n",
       "doc_001    7\n",
       "doc_009    5\n",
       "doc_008    5\n",
       "doc_005    5\n",
       "doc_003    4\n",
       "doc_002    3\n",
       "doc_004    3\n",
       "doc_006    2\n",
       "Name: count, dtype: int64"
      ]
     },
     "execution_count": 3,
     "metadata": {},
     "output_type": "execute_result"
    }
   ],
   "source": [
    "df_fake[\"env_doc_id\"].value_counts()"
   ]
  },
  {
   "cell_type": "code",
   "execution_count": 4,
   "metadata": {},
   "outputs": [
    {
     "data": {
      "text/plain": [
       "'/Users/ilya/Desktop/GitHub_Repositories/HW_University/Industrial/Python/CW/also_likes_graph.pdf'"
      ]
     },
     "execution_count": 4,
     "metadata": {},
     "output_type": "execute_result"
    }
   ],
   "source": [
    "document_id = \"doc_004\"\n",
    "\n",
    "create_graph(document_id, df_fake)"
   ]
  },
  {
   "cell_type": "code",
   "execution_count": null,
   "metadata": {},
   "outputs": [],
   "source": []
  }
 ],
 "metadata": {
  "kernelspec": {
   "display_name": "Python 3.10 (mainvenv)",
   "language": "python",
   "name": "mainenv"
  },
  "language_info": {
   "codemirror_mode": {
    "name": "ipython",
    "version": 3
   },
   "file_extension": ".py",
   "mimetype": "text/x-python",
   "name": "python",
   "nbconvert_exporter": "python",
   "pygments_lexer": "ipython3",
   "version": "3.10.13"
  }
 },
 "nbformat": 4,
 "nbformat_minor": 2
}
