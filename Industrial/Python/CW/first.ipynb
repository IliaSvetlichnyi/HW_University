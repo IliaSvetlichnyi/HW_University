{
 "cells": [
  {
   "cell_type": "code",
   "execution_count": 31,
   "metadata": {},
   "outputs": [],
   "source": [
    "import json\n",
    "import pandas as pd\n",
    "import matplotlib.pyplot as plt"
   ]
  },
  {
   "cell_type": "code",
   "execution_count": 2,
   "metadata": {},
   "outputs": [],
   "source": [
    "# Initialize an empty list to store JSON objects\n",
    "json_data = []\n",
    "\n",
    "# Load each JSON object from each line\n",
    "with open('sample_tiny.json', 'r') as file:\n",
    "    for line in file:\n",
    "        try:\n",
    "            json_object = json.loads(line)\n",
    "            json_data.append(json_object)\n",
    "        except json.JSONDecodeError:\n",
    "            print(\"Error decoding JSON from line:\", line)\n",
    "\n",
    "# Convert the list of JSON objects to a DataFrame\n",
    "df = pd.DataFrame(json_data)"
   ]
  },
  {
   "cell_type": "code",
   "execution_count": 3,
   "metadata": {},
   "outputs": [
    {
     "data": {
      "text/html": [
       "<div>\n",
       "<style scoped>\n",
       "    .dataframe tbody tr th:only-of-type {\n",
       "        vertical-align: middle;\n",
       "    }\n",
       "\n",
       "    .dataframe tbody tr th {\n",
       "        vertical-align: top;\n",
       "    }\n",
       "\n",
       "    .dataframe thead th {\n",
       "        text-align: right;\n",
       "    }\n",
       "</style>\n",
       "<table border=\"1\" class=\"dataframe\">\n",
       "  <thead>\n",
       "    <tr style=\"text-align: right;\">\n",
       "      <th></th>\n",
       "      <th>ts</th>\n",
       "      <th>visitor_uuid</th>\n",
       "      <th>visitor_source</th>\n",
       "      <th>visitor_device</th>\n",
       "      <th>visitor_useragent</th>\n",
       "      <th>visitor_ip</th>\n",
       "      <th>visitor_country</th>\n",
       "      <th>visitor_referrer</th>\n",
       "      <th>env_type</th>\n",
       "      <th>env_doc_id</th>\n",
       "      <th>...</th>\n",
       "      <th>env_build</th>\n",
       "      <th>env_name</th>\n",
       "      <th>env_component</th>\n",
       "      <th>visitor_username</th>\n",
       "      <th>event_index</th>\n",
       "      <th>subject_infoboxid</th>\n",
       "      <th>subject_url</th>\n",
       "      <th>cause_position</th>\n",
       "      <th>cause_adid</th>\n",
       "      <th>env_adid</th>\n",
       "    </tr>\n",
       "  </thead>\n",
       "  <tbody>\n",
       "    <tr>\n",
       "      <th>0</th>\n",
       "      <td>1393631983</td>\n",
       "      <td>04daa9ed9dde73d3</td>\n",
       "      <td>external</td>\n",
       "      <td>browser</td>\n",
       "      <td>Mozilla/5.0 (Windows NT 6.1; WOW64) AppleWebKi...</td>\n",
       "      <td>6a3273d508a9de04</td>\n",
       "      <td>ES</td>\n",
       "      <td>64f729926497515c</td>\n",
       "      <td>reader</td>\n",
       "      <td>140224195414-e5a9acedd5eb6631bb6b39422fba6798</td>\n",
       "      <td>...</td>\n",
       "      <td>NaN</td>\n",
       "      <td>NaN</td>\n",
       "      <td>NaN</td>\n",
       "      <td>NaN</td>\n",
       "      <td>NaN</td>\n",
       "      <td>NaN</td>\n",
       "      <td>NaN</td>\n",
       "      <td>NaN</td>\n",
       "      <td>NaN</td>\n",
       "      <td>NaN</td>\n",
       "    </tr>\n",
       "    <tr>\n",
       "      <th>1</th>\n",
       "      <td>1393631983</td>\n",
       "      <td>04daa9ed9dde73d3</td>\n",
       "      <td>external</td>\n",
       "      <td>browser</td>\n",
       "      <td>Mozilla/5.0 (Windows NT 6.1; WOW64) AppleWebKi...</td>\n",
       "      <td>6a3273d508a9de04</td>\n",
       "      <td>ES</td>\n",
       "      <td>64f729926497515c</td>\n",
       "      <td>reader</td>\n",
       "      <td>140224195414-e5a9acedd5eb6631bb6b39422fba6798</td>\n",
       "      <td>...</td>\n",
       "      <td>NaN</td>\n",
       "      <td>NaN</td>\n",
       "      <td>NaN</td>\n",
       "      <td>NaN</td>\n",
       "      <td>NaN</td>\n",
       "      <td>NaN</td>\n",
       "      <td>NaN</td>\n",
       "      <td>NaN</td>\n",
       "      <td>NaN</td>\n",
       "      <td>NaN</td>\n",
       "    </tr>\n",
       "    <tr>\n",
       "      <th>2</th>\n",
       "      <td>1393631983</td>\n",
       "      <td>ade7e1f63bc83c66</td>\n",
       "      <td>external</td>\n",
       "      <td>browser</td>\n",
       "      <td>Opera/9.80 (Windows NT 6.1) Presto/2.12.388 Ve...</td>\n",
       "      <td>b5af0ba608ab307c</td>\n",
       "      <td>BR</td>\n",
       "      <td>53c643c16e8253e7</td>\n",
       "      <td>reader</td>\n",
       "      <td>140222143932-91796b01f94327ee809bd759fd0f6c76</td>\n",
       "      <td>...</td>\n",
       "      <td>NaN</td>\n",
       "      <td>NaN</td>\n",
       "      <td>NaN</td>\n",
       "      <td>NaN</td>\n",
       "      <td>NaN</td>\n",
       "      <td>NaN</td>\n",
       "      <td>NaN</td>\n",
       "      <td>NaN</td>\n",
       "      <td>NaN</td>\n",
       "      <td>NaN</td>\n",
       "    </tr>\n",
       "    <tr>\n",
       "      <th>3</th>\n",
       "      <td>1393631983</td>\n",
       "      <td>ade7e1f63bc83c66</td>\n",
       "      <td>external</td>\n",
       "      <td>browser</td>\n",
       "      <td>Opera/9.80 (Windows NT 6.1) Presto/2.12.388 Ve...</td>\n",
       "      <td>b5af0ba608ab307c</td>\n",
       "      <td>BR</td>\n",
       "      <td>53c643c16e8253e7</td>\n",
       "      <td>reader</td>\n",
       "      <td>140222143932-91796b01f94327ee809bd759fd0f6c76</td>\n",
       "      <td>...</td>\n",
       "      <td>NaN</td>\n",
       "      <td>NaN</td>\n",
       "      <td>NaN</td>\n",
       "      <td>NaN</td>\n",
       "      <td>NaN</td>\n",
       "      <td>NaN</td>\n",
       "      <td>NaN</td>\n",
       "      <td>NaN</td>\n",
       "      <td>NaN</td>\n",
       "      <td>NaN</td>\n",
       "    </tr>\n",
       "    <tr>\n",
       "      <th>4</th>\n",
       "      <td>1393631983</td>\n",
       "      <td>232eeca785873d35</td>\n",
       "      <td>internal</td>\n",
       "      <td>browser</td>\n",
       "      <td>Mozilla/5.0 (Windows NT 6.1; WOW64) AppleWebKi...</td>\n",
       "      <td>fcf9c67037f993f0</td>\n",
       "      <td>MX</td>\n",
       "      <td>63765fcd2ff864fd</td>\n",
       "      <td>stream</td>\n",
       "      <td>NaN</td>\n",
       "      <td>...</td>\n",
       "      <td>1.7.118-b946</td>\n",
       "      <td>explore</td>\n",
       "      <td>editors_picks</td>\n",
       "      <td>NaN</td>\n",
       "      <td>NaN</td>\n",
       "      <td>NaN</td>\n",
       "      <td>NaN</td>\n",
       "      <td>NaN</td>\n",
       "      <td>NaN</td>\n",
       "      <td>NaN</td>\n",
       "    </tr>\n",
       "  </tbody>\n",
       "</table>\n",
       "<p>5 rows × 27 columns</p>\n",
       "</div>"
      ],
      "text/plain": [
       "           ts      visitor_uuid visitor_source visitor_device  \\\n",
       "0  1393631983  04daa9ed9dde73d3       external        browser   \n",
       "1  1393631983  04daa9ed9dde73d3       external        browser   \n",
       "2  1393631983  ade7e1f63bc83c66       external        browser   \n",
       "3  1393631983  ade7e1f63bc83c66       external        browser   \n",
       "4  1393631983  232eeca785873d35       internal        browser   \n",
       "\n",
       "                                   visitor_useragent        visitor_ip  \\\n",
       "0  Mozilla/5.0 (Windows NT 6.1; WOW64) AppleWebKi...  6a3273d508a9de04   \n",
       "1  Mozilla/5.0 (Windows NT 6.1; WOW64) AppleWebKi...  6a3273d508a9de04   \n",
       "2  Opera/9.80 (Windows NT 6.1) Presto/2.12.388 Ve...  b5af0ba608ab307c   \n",
       "3  Opera/9.80 (Windows NT 6.1) Presto/2.12.388 Ve...  b5af0ba608ab307c   \n",
       "4  Mozilla/5.0 (Windows NT 6.1; WOW64) AppleWebKi...  fcf9c67037f993f0   \n",
       "\n",
       "  visitor_country  visitor_referrer env_type  \\\n",
       "0              ES  64f729926497515c   reader   \n",
       "1              ES  64f729926497515c   reader   \n",
       "2              BR  53c643c16e8253e7   reader   \n",
       "3              BR  53c643c16e8253e7   reader   \n",
       "4              MX  63765fcd2ff864fd   stream   \n",
       "\n",
       "                                      env_doc_id  ...     env_build env_name  \\\n",
       "0  140224195414-e5a9acedd5eb6631bb6b39422fba6798  ...           NaN      NaN   \n",
       "1  140224195414-e5a9acedd5eb6631bb6b39422fba6798  ...           NaN      NaN   \n",
       "2  140222143932-91796b01f94327ee809bd759fd0f6c76  ...           NaN      NaN   \n",
       "3  140222143932-91796b01f94327ee809bd759fd0f6c76  ...           NaN      NaN   \n",
       "4                                            NaN  ...  1.7.118-b946  explore   \n",
       "\n",
       "   env_component  visitor_username event_index  subject_infoboxid  \\\n",
       "0            NaN               NaN         NaN                NaN   \n",
       "1            NaN               NaN         NaN                NaN   \n",
       "2            NaN               NaN         NaN                NaN   \n",
       "3            NaN               NaN         NaN                NaN   \n",
       "4  editors_picks               NaN         NaN                NaN   \n",
       "\n",
       "   subject_url cause_position cause_adid env_adid  \n",
       "0          NaN            NaN        NaN      NaN  \n",
       "1          NaN            NaN        NaN      NaN  \n",
       "2          NaN            NaN        NaN      NaN  \n",
       "3          NaN            NaN        NaN      NaN  \n",
       "4          NaN            NaN        NaN      NaN  \n",
       "\n",
       "[5 rows x 27 columns]"
      ]
     },
     "execution_count": 3,
     "metadata": {},
     "output_type": "execute_result"
    }
   ],
   "source": [
    "df.head()"
   ]
  },
  {
   "cell_type": "code",
   "execution_count": 4,
   "metadata": {},
   "outputs": [
    {
     "data": {
      "text/plain": [
       "(1024, 27)"
      ]
     },
     "execution_count": 4,
     "metadata": {},
     "output_type": "execute_result"
    }
   ],
   "source": [
    "df.shape"
   ]
  },
  {
   "cell_type": "code",
   "execution_count": 25,
   "metadata": {},
   "outputs": [
    {
     "name": "stdout",
     "output_type": "stream",
     "text": [
      "cause_adid 99.9\n",
      "env_adid 99.9\n",
      "subject_infoboxid 99.51\n",
      "subject_url 99.51\n",
      "event_index 99.22\n",
      "cause_position 98.93\n",
      "env_build 96.48\n",
      "env_name 96.48\n",
      "env_component 96.48\n",
      "visitor_username 96.39\n",
      "env_ranking 96.0\n",
      "cause_type 60.45\n",
      "event_readtime 59.28\n",
      "env_doc_id 4.79\n",
      "subject_doc_id 1.27\n",
      "subject_page 1.27\n",
      "subject_type 0.78\n",
      "visitor_referrer 0.1\n",
      "ts 0.0\n",
      "visitor_uuid 0.0\n",
      "visitor_source 0.0\n",
      "visitor_device 0.0\n",
      "visitor_useragent 0.0\n",
      "visitor_ip 0.0\n",
      "visitor_country 0.0\n",
      "env_type 0.0\n",
      "event_type 0.0\n"
     ]
    }
   ],
   "source": [
    "percent_missing = {}\n",
    "\n",
    "for col in df.columns:\n",
    "    percent_missing[col] = ((df[col].isna().sum() / df.shape[0]) * 100).round(2)\n",
    "\n",
    "# sort in descending order\n",
    "percent_missing = dict(sorted(percent_missing.items(), key=lambda item: item[1], reverse=True))\n",
    "\n",
    "# print column name and percentage of missing values\n",
    "for col, percent in percent_missing.items():\n",
    "    print(col, percent)"
   ]
  },
  {
   "cell_type": "markdown",
   "metadata": {},
   "source": [
    "## Analysis and Visualization"
   ]
  },
  {
   "cell_type": "markdown",
   "metadata": {},
   "source": [
    "### Views by Country"
   ]
  },
  {
   "cell_type": "code",
   "execution_count": 54,
   "metadata": {},
   "outputs": [
    {
     "data": {
      "image/png": "[encoded data removed]",
      "text/plain": [
       "<Figure size 900x500 with 1 Axes>"
      ]
     },
     "metadata": {},
     "output_type": "display_data"
    }
   ],
   "source": [
    "views_by_country = df.groupby(\"visitor_country\").agg({\"visitor_country\": \"count\"}).rename(columns={\"visitor_country\": \"count\"}).sort_values(by=\"count\", ascending=False)\n",
    "\n",
    "# Plot the top 20 countries by views\n",
    "views_by_country.head(20).plot(kind=\"bar\", figsize=(9, 5), title=\"Views by Country\")\n",
    "plt.show()"
   ]
  },
  {
   "cell_type": "markdown",
   "metadata": {},
   "source": [
    "### Views by Continent"
   ]
  },
  {
   "cell_type": "code",
   "execution_count": 55,
   "metadata": {},
   "outputs": [
    {
     "data": {
      "image/png": "[encoded data removed]",
      "text/plain": [
       "<Figure size 900x500 with 1 Axes>"
      ]
     },
     "metadata": {},
     "output_type": "display_data"
    }
   ],
   "source": [
    "import pycountry_convert as pc\n",
    "import pandas as pd\n",
    "import matplotlib.pyplot as plt\n",
    "\n",
    "# Function to get continent from country code using pycountry_convert\n",
    "def country_code_to_continent(country_code):\n",
    "    try:\n",
    "        continent_code = pc.country_alpha2_to_continent_code(country_code)\n",
    "        return pc.convert_continent_code_to_continent_name(continent_code)\n",
    "    except:\n",
    "        return \"Unknown\"  # for codes that are not found or invalid\n",
    "\n",
    "\n",
    "# Apply the function to your DataFrame\n",
    "df['continent'] = df['visitor_country'].apply(country_code_to_continent)\n",
    "\n",
    "# Group by continent and count views\n",
    "views_by_continent = df.groupby(\n",
    "    \"continent\").size().sort_values(ascending=False)\n",
    "\n",
    "# Plot the views by continent\n",
    "views_by_continent.plot(kind=\"bar\", figsize=(9, 5), title=\"Views by Continent\")\n",
    "plt.show()"
   ]
  },
  {
   "cell_type": "markdown",
   "metadata": {},
   "source": [
    "### Views by Browser"
   ]
  },
  {
   "cell_type": "markdown",
   "metadata": {},
   "source": [
    "## Should we do point a in this task? Because origin column is very noisy"
   ]
  },
  {
   "cell_type": "code",
   "execution_count": 76,
   "metadata": {},
   "outputs": [
    {
     "data": {
      "image/png": "[encoded data removed]",
      "text/plain": [
       "<Figure size 900x500 with 1 Axes>"
      ]
     },
     "metadata": {},
     "output_type": "display_data"
    }
   ],
   "source": [
    "df['browser_type'] = df['visitor_useragent'].str.split('/').str[0]\n",
    "views_by_browser = df.groupby(\"browser_type\").size().sort_values(ascending=False)\n",
    "\n",
    "# Plot the top browsers by views\n",
    "views_by_browser.plot(kind=\"bar\", figsize=(9, 5), title=\"Views by Browser\")\n",
    "plt.show()"
   ]
  },
  {
   "cell_type": "markdown",
   "metadata": {},
   "source": [
    "### Reader profiles: top 10 reader of the website"
   ]
  },
  {
   "cell_type": "code",
   "execution_count": 86,
   "metadata": {},
   "outputs": [
    {
     "data": {
      "text/plain": [
       "env_type\n",
       "reader    975\n",
       "stream     49\n",
       "Name: count, dtype: int64"
      ]
     },
     "execution_count": 86,
     "metadata": {},
     "output_type": "execute_result"
    }
   ],
   "source": [
    "df['env_type'].value_counts()"
   ]
  },
  {
   "cell_type": "code",
   "execution_count": 84,
   "metadata": {},
   "outputs": [
    {
     "data": {
      "text/plain": [
       "Index(['ts', 'visitor_uuid', 'visitor_source', 'visitor_device',\n",
       "       'visitor_useragent', 'visitor_ip', 'visitor_country',\n",
       "       'visitor_referrer', 'env_type', 'env_doc_id', 'event_type',\n",
       "       'subject_type', 'subject_doc_id', 'subject_page', 'cause_type',\n",
       "       'event_readtime', 'env_ranking', 'env_build', 'env_name',\n",
       "       'env_component', 'visitor_username', 'event_index', 'subject_infoboxid',\n",
       "       'subject_url', 'cause_position', 'cause_adid', 'env_adid', 'continent',\n",
       "       'browser_type'],\n",
       "      dtype='object')"
      ]
     },
     "execution_count": 84,
     "metadata": {},
     "output_type": "execute_result"
    }
   ],
   "source": [
    "df.columns"
   ]
  },
  {
   "cell_type": "code",
   "execution_count": 83,
   "metadata": {},
   "outputs": [
    {
     "data": {
      "text/html": [
       "<div>\n",
       "<style scoped>\n",
       "    .dataframe tbody tr th:only-of-type {\n",
       "        vertical-align: middle;\n",
       "    }\n",
       "\n",
       "    .dataframe tbody tr th {\n",
       "        vertical-align: top;\n",
       "    }\n",
       "\n",
       "    .dataframe thead th {\n",
       "        text-align: right;\n",
       "    }\n",
       "</style>\n",
       "<table border=\"1\" class=\"dataframe\">\n",
       "  <thead>\n",
       "    <tr style=\"text-align: right;\">\n",
       "      <th></th>\n",
       "      <th>event_readtime</th>\n",
       "    </tr>\n",
       "    <tr>\n",
       "      <th>visitor_uuid</th>\n",
       "      <th></th>\n",
       "    </tr>\n",
       "  </thead>\n",
       "  <tbody>\n",
       "    <tr>\n",
       "      <th>849bb060cb110347</th>\n",
       "      <td>486053.0</td>\n",
       "    </tr>\n",
       "    <tr>\n",
       "      <th>b3ded380cc8fdd24</th>\n",
       "      <td>68250.0</td>\n",
       "    </tr>\n",
       "    <tr>\n",
       "      <th>edcfe5dd30027a43</th>\n",
       "      <td>68166.0</td>\n",
       "    </tr>\n",
       "    <tr>\n",
       "      <th>965ce44fd1972faf</th>\n",
       "      <td>47333.0</td>\n",
       "    </tr>\n",
       "    <tr>\n",
       "      <th>6173ebf3e897b273</th>\n",
       "      <td>39501.0</td>\n",
       "    </tr>\n",
       "    <tr>\n",
       "      <th>9e128338491e90fa</th>\n",
       "      <td>39417.0</td>\n",
       "    </tr>\n",
       "    <tr>\n",
       "      <th>9b4e241081ea345e</th>\n",
       "      <td>33595.0</td>\n",
       "    </tr>\n",
       "    <tr>\n",
       "      <th>abe908c640c33af7</th>\n",
       "      <td>27416.0</td>\n",
       "    </tr>\n",
       "    <tr>\n",
       "      <th>c5650aac730ee646</th>\n",
       "      <td>22916.0</td>\n",
       "    </tr>\n",
       "    <tr>\n",
       "      <th>abb74261514b0a57</th>\n",
       "      <td>22864.0</td>\n",
       "    </tr>\n",
       "  </tbody>\n",
       "</table>\n",
       "</div>"
      ],
      "text/plain": [
       "                  event_readtime\n",
       "visitor_uuid                    \n",
       "849bb060cb110347        486053.0\n",
       "b3ded380cc8fdd24         68250.0\n",
       "edcfe5dd30027a43         68166.0\n",
       "965ce44fd1972faf         47333.0\n",
       "6173ebf3e897b273         39501.0\n",
       "9e128338491e90fa         39417.0\n",
       "9b4e241081ea345e         33595.0\n",
       "abe908c640c33af7         27416.0\n",
       "c5650aac730ee646         22916.0\n",
       "abb74261514b0a57         22864.0"
      ]
     },
     "execution_count": 83,
     "metadata": {},
     "output_type": "execute_result"
    }
   ],
   "source": [
    "# Top ten readers by time spent on the site\n",
    "df[df[\"env_type\"] == \"reader\"].groupby(\"visitor_uuid\").agg({\"event_readtime\": \"sum\"}).sort_values(\n",
    "    by=\"event_readtime\", ascending=False).head(10)"
   ]
  },
  {
   "cell_type": "markdown",
   "metadata": {},
   "source": [
    "### \"Also likes\" functionality"
   ]
  },
  {
   "cell_type": "code",
   "execution_count": 87,
   "metadata": {},
   "outputs": [
    {
     "data": {
      "text/plain": [
       "Index(['ts', 'visitor_uuid', 'visitor_source', 'visitor_device',\n",
       "       'visitor_useragent', 'visitor_ip', 'visitor_country',\n",
       "       'visitor_referrer', 'env_type', 'env_doc_id', 'event_type',\n",
       "       'subject_type', 'subject_doc_id', 'subject_page', 'cause_type',\n",
       "       'event_readtime', 'env_ranking', 'env_build', 'env_name',\n",
       "       'env_component', 'visitor_username', 'event_index', 'subject_infoboxid',\n",
       "       'subject_url', 'cause_position', 'cause_adid', 'env_adid', 'continent',\n",
       "       'browser_type'],\n",
       "      dtype='object')"
      ]
     },
     "execution_count": 87,
     "metadata": {},
     "output_type": "execute_result"
    }
   ],
   "source": [
    "df.columns"
   ]
  },
  {
   "cell_type": "code",
   "execution_count": 90,
   "metadata": {},
   "outputs": [
    {
     "data": {
      "text/plain": [
       "count                                              1011\n",
       "unique                                              341\n",
       "top       140206010823-b14c9d966be950314215c17923a04af7\n",
       "freq                                                 42\n",
       "Name: subject_doc_id, dtype: object"
      ]
     },
     "execution_count": 90,
     "metadata": {},
     "output_type": "execute_result"
    }
   ],
   "source": [
    "df['subject_doc_id'].describe()"
   ]
  },
  {
   "cell_type": "code",
   "execution_count": 91,
   "metadata": {},
   "outputs": [
    {
     "data": {
      "text/plain": [
       "count                                               975\n",
       "unique                                              296\n",
       "top       140206010823-b14c9d966be950314215c17923a04af7\n",
       "freq                                                 42\n",
       "Name: env_doc_id, dtype: object"
      ]
     },
     "execution_count": 91,
     "metadata": {},
     "output_type": "execute_result"
    }
   ],
   "source": [
    "df['env_doc_id'].describe()"
   ]
  },
  {
   "cell_type": "code",
   "execution_count": 106,
   "metadata": {},
   "outputs": [
    {
     "data": {
      "text/plain": [
       "['140224195414-e5a9acedd5eb6631bb6b39422fba6798']"
      ]
     },
     "execution_count": 106,
     "metadata": {},
     "output_type": "execute_result"
    }
   ],
   "source": [
    "reader_df = df[df[\"env_type\"] == \"reader\"]\n",
    "\n",
    "# A) Get all readers for a given doc_uuid\n",
    "\n",
    "\n",
    "def get_readers_of_document(df, doc_uuid):\n",
    "    \"\"\" Returns all visitor UUIDs of readers of the specified document \"\"\"\n",
    "    readers = df[df['env_doc_id'] == doc_uuid]['visitor_uuid'].unique()\n",
    "    return readers\n",
    "\n",
    "\n",
    "# B) Get all docs read by a given visitor_uuid\n",
    "def get_documents_read_by_visitor(df, visitor_uuid):\n",
    "    \"\"\" Returns all document UUIDs read by the specified visitor \"\"\"\n",
    "    documents = df[df['visitor_uuid'] == visitor_uuid]['env_doc_id'].unique()\n",
    "    return documents\n",
    "\n",
    "\n",
    "# C) \"also like\" functionality\n",
    "def also_like(doc_uuid, df, sorting_func=None, visitor_uuid=None):\n",
    "    \"\"\" \n",
    "    Returns a list of documents that are 'liked' by readers of a given document,\n",
    "    sorted by the sorting function.\n",
    "    \"\"\"\n",
    "    readers = get_readers_of_document(df, doc_uuid)\n",
    "    liked_documents = set()\n",
    "\n",
    "    for reader in readers:\n",
    "        if reader != visitor_uuid: # Optional: Exclude the specified visitor's own reads\n",
    "            liked_documents.update(get_documents_read_by_visitor(df, reader))\n",
    "\n",
    "    # Apply the sorting function and return the top 10\n",
    "    return sorted(liked_documents, key=sorting_func)[:10]\n",
    "\n",
    "# D) Define a sorting function\n",
    "def sort_by_readers_count(document_uuid):\n",
    "    \"\"\" Define a sorting function based on the number of readers \"\"\"\n",
    "    readers_count = len(get_readers_of_document(df, document_uuid))\n",
    "    return readers_count\n",
    "\n",
    "\n",
    "# Example usage\n",
    "some_document_uuid = \"140224195414-e5a9acedd5eb6631bb6b39422fba6798\"\n",
    "\n",
    "top_10_liked_documents = also_like(\n",
    "    some_document_uuid, sorting_func=sort_by_readers_count, df=reader_df)\n",
    "\n",
    "top_10_liked_documents"
   ]
  },
  {
   "cell_type": "code",
   "execution_count": 109,
   "metadata": {},
   "outputs": [
    {
     "data": {
      "text/plain": [
       "'/Users/ilya/Desktop/GitHub_Repositories/HW_University/Industrial/Python/CW/also_likes_graph.ps'"
      ]
     },
     "execution_count": 109,
     "metadata": {},
     "output_type": "execute_result"
    }
   ],
   "source": [
    "from graphviz import Digraph\n",
    "\n",
    "\n",
    "def create_graph(input_doc, related_docs, readers):\n",
    "    dot = Digraph(comment='Also Likes Graph')\n",
    "\n",
    "    # Add the input document (highlighted in green)\n",
    "    dot.node(input_doc[-4:], input_doc[-4:], color='green')\n",
    "\n",
    "    # Add related documents and readers\n",
    "    for doc in related_docs:\n",
    "        if doc != input_doc:\n",
    "            dot.node(doc[-4:], doc[-4:])\n",
    "        for reader in readers[doc]:\n",
    "            dot.node(reader[-4:], reader[-4:])\n",
    "            dot.edge(reader[-4:], doc[-4:])\n",
    "\n",
    "    return dot\n",
    "\n",
    "\n",
    "# Define the list of related document UUIDs and their readers\n",
    "# The following is an example; you should use the output from your 'also_like' function\n",
    "input_document_uuid = \"140224195414-e5a9acedd5eb6631bb6b39422fba6798\"\n",
    "# The result from your also_like function\n",
    "related_documents_uuids = top_10_liked_documents\n",
    "readers_info = {doc: get_readers_of_document(\n",
    "    reader_df, doc) for doc in related_documents_uuids}\n",
    "\n",
    "# Create the graph\n",
    "dot = create_graph(input_document_uuid, related_documents_uuids, readers_info)\n",
    "\n",
    "# Render the graph to a file (in this case, a PostScript file)\n",
    "output_path = '/Users/ilya/Desktop/GitHub_Repositories/HW_University/Industrial/Python/CW/also_likes_graph'\n",
    "dot.render(output_path, format='ps', cleanup=True)\n",
    "\n",
    "# Provide the path to the generated file\n",
    "output_path + '.ps'"
   ]
  },
  {
   "cell_type": "code",
   "execution_count": null,
   "metadata": {},
   "outputs": [],
   "source": []
  },
  {
   "cell_type": "code",
   "execution_count": null,
   "metadata": {},
   "outputs": [],
   "source": []
  },
  {
   "cell_type": "code",
   "execution_count": null,
   "metadata": {},
   "outputs": [],
   "source": []
  },
  {
   "cell_type": "code",
   "execution_count": null,
   "metadata": {},
   "outputs": [],
   "source": []
  },
  {
   "cell_type": "code",
   "execution_count": 96,
   "metadata": {},
   "outputs": [
    {
     "name": "stdout",
     "output_type": "stream",
     "text": [
      "['140224195414-e5a9acedd5eb6631bb6b39422fba6798']\n"
     ]
    }
   ],
   "source": [
    "reader_df = df[df[\"env_type\"] == \"reader\"]\n",
    "\n",
    "# Implement a function that takes a document UUID and returns all visitor UUIDs of readers of that document.\n",
    "def get_readers(doc_uuid):\n",
    "    return reader_df[reader_df[\"env_doc_id\"] == doc_uuid][\"visitor_uuid\"].unique()\n",
    "\n",
    "# Implement a function that takes a visitor UUID and returns all document UUIDs that have been read by this visitor.\n",
    "def get_read_docs(visitor_uuid):\n",
    "    return reader_df[reader_df[\"visitor_uuid\"] == visitor_uuid][\"env_doc_id\"].unique()\n",
    "\n",
    "\n",
    "# Implement a function that takes a document UUID and (optionally) visitor UUID, and a sorting function on documents.\n",
    "# The function should return a list of \"liked\" documents, sorted by the sorting function parameter.\n",
    "def also_like(doc_uuid, visitor_uuid=None, sorting_func=None):\n",
    "    # Get all visitor UUIDs of readers of the given document UUID\n",
    "    readers = get_readers(doc_uuid)\n",
    "    \n",
    "    # If visitor UUID is provided, remove it from the list of readers\n",
    "    if visitor_uuid:\n",
    "        readers = [r for r in readers if r != visitor_uuid]\n",
    "    \n",
    "    # Get all document UUIDs that have been read by the readers\n",
    "    read_docs = [get_read_docs(r) for r in readers]\n",
    "    \n",
    "    # Flatten the list of document UUIDs and remove duplicates\n",
    "    read_docs = list(set([d for docs in read_docs for d in docs]))\n",
    "    \n",
    "    # Sort the list of \"liked\" documents using the sorting function parameter\n",
    "    if sorting_func:\n",
    "        read_docs = sorted(read_docs, key=sorting_func)\n",
    "    \n",
    "    return read_docs\n",
    "\n",
    "\n",
    "# Define the sorting function based on the number of readers of the same document\n",
    "def sort_by_readers(doc_uuid):\n",
    "    return len(get_readers(doc_uuid))\n",
    "\n",
    "\n",
    "# Get the \"also like\" list of documents based on the sorting function and the provided document and visitor UUIDs\n",
    "doc_uuid = \"140224195414-e5a9acedd5eb6631bb6b39422fba6798\"\n",
    "visitor_uuid = \"ade7e1f63bc83c66\"\n",
    "liked_docs = also_like(doc_uuid, visitor_uuid, sort_by_readers)[:10]\n",
    "\n",
    "# Print the top 10 document UUIDs\n",
    "print(liked_docs)"
   ]
  },
  {
   "cell_type": "code",
   "execution_count": null,
   "metadata": {},
   "outputs": [],
   "source": []
  },
  {
   "cell_type": "code",
   "execution_count": null,
   "metadata": {},
   "outputs": [],
   "source": []
  }
 ],
 "metadata": {
  "kernelspec": {
   "display_name": "Python 3.10 (mainvenv)",
   "language": "python",
   "name": "mainenv"
  },
  "language_info": {
   "codemirror_mode": {
    "name": "ipython",
    "version": 3
   },
   "file_extension": ".py",
   "mimetype": "text/x-python",
   "name": "python",
   "nbconvert_exporter": "python",
   "pygments_lexer": "ipython3",
   "version": "3.10.10"
  }
 },
 "nbformat": 4,
 "nbformat_minor": 2
}
