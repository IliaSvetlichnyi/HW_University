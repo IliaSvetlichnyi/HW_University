{
 "cells": [
  {
   "cell_type": "code",
   "execution_count": 1,
   "metadata": {},
   "outputs": [],
   "source": [
    "import pandas as pd\n",
    "import numpy as np\n",
    "import matplotlib.pyplot as plt\n",
    "import seaborn as sns\n",
    "from tensorflow import keras\n",
    "from keras.models import Sequential\n",
    "from keras.layers import Conv2D, MaxPooling2D, Flatten, Dense\n",
    "from keras.utils import to_categorical"
   ]
  },
  {
   "cell_type": "markdown",
   "metadata": {},
   "source": [
    "### Loading the whole dataset"
   ]
  },
  {
   "cell_type": "code",
   "execution_count": 2,
   "metadata": {},
   "outputs": [],
   "source": [
    "X_train = pd.read_csv(\n",
    "    '/Users/ilya/Desktop/Course_work_Data_mining/CompleteDataSet/x_train_all.csv')\n",
    "\n",
    "X_test = pd.read_csv(\n",
    "    '/Users/ilya/Desktop/Course_work_Data_mining/CompleteDataSet/x_test_all.csv')\n",
    "\n",
    "y_train = pd.read_csv(\n",
    "    \"/Users/ilya/Desktop/Course_work_Data_mining/CompleteDataSet/y_train_all.csv\")\n",
    "\n",
    "y_test = pd.read_csv(\n",
    "    \"/Users/ilya/Desktop/Course_work_Data_mining/CompleteDataSet/y_test_all.csv\")"
   ]
  },
  {
   "cell_type": "code",
   "execution_count": 3,
   "metadata": {},
   "outputs": [
    {
     "data": {
      "text/plain": [
       "10"
      ]
     },
     "execution_count": 3,
     "metadata": {},
     "output_type": "execute_result"
    }
   ],
   "source": [
    "y_train[\"0\"].nunique()"
   ]
  },
  {
   "cell_type": "code",
   "execution_count": 4,
   "metadata": {},
   "outputs": [],
   "source": [
    "image_height = 48\n",
    "image_width = 48\n",
    "num_channels = 1\n",
    "num_classes = 10\n",
    "num_epochs = 10\n",
    "batch_size = 64"
   ]
  },
  {
   "cell_type": "code",
   "execution_count": 5,
   "metadata": {},
   "outputs": [],
   "source": [
    "# Reshape X_train to match the expected input shape\n",
    "X_train_reshaped = np.reshape(\n",
    "    X_train, (X_train.shape[0], image_height, image_width, num_channels))\n",
    "\n",
    "# Reshape X_test to match the expected input shape\n",
    "X_test_reshaped = np.reshape(\n",
    "    X_test, (X_test.shape[0], image_height, image_width, num_channels))\n",
    "\n",
    "# Convert y_train to one-hot encoded format\n",
    "y_train_encoded = to_categorical(y_train, num_classes)\n",
    "\n",
    "# Convert y_test to one-hot encoded format\n",
    "y_test_encoded = to_categorical(y_test, num_classes)"
   ]
  },
  {
   "cell_type": "code",
   "execution_count": 6,
   "metadata": {},
   "outputs": [
    {
     "data": {
      "text/plain": [
       "(9690, 48, 48, 1)"
      ]
     },
     "execution_count": 6,
     "metadata": {},
     "output_type": "execute_result"
    }
   ],
   "source": [
    "X_train_reshaped.shape"
   ]
  },
  {
   "cell_type": "code",
   "execution_count": 7,
   "metadata": {},
   "outputs": [
    {
     "data": {
      "text/plain": [
       "(9690, 10)"
      ]
     },
     "execution_count": 7,
     "metadata": {},
     "output_type": "execute_result"
    }
   ],
   "source": [
    "y_train_encoded.shape"
   ]
  },
  {
   "cell_type": "markdown",
   "metadata": {},
   "source": [
    "### Let's build a simple CNN model to see if it can learn the patterns in the data."
   ]
  },
  {
   "cell_type": "code",
   "execution_count": 8,
   "metadata": {},
   "outputs": [
    {
     "name": "stdout",
     "output_type": "stream",
     "text": [
      "Metal device set to: Apple M1 Pro\n",
      "\n",
      "systemMemory: 16.00 GB\n",
      "maxCacheSize: 5.33 GB\n",
      "\n"
     ]
    },
    {
     "name": "stderr",
     "output_type": "stream",
     "text": [
      "2023-11-29 23:46:56.869214: I tensorflow/core/common_runtime/pluggable_device/pluggable_device_factory.cc:305] Could not identify NUMA node of platform GPU ID 0, defaulting to 0. Your kernel may not have been built with NUMA support.\n",
      "2023-11-29 23:46:56.869688: I tensorflow/core/common_runtime/pluggable_device/pluggable_device_factory.cc:271] Created TensorFlow device (/job:localhost/replica:0/task:0/device:GPU:0 with 0 MB memory) -> physical PluggableDevice (device: 0, name: METAL, pci bus id: <undefined>)\n"
     ]
    },
    {
     "name": "stdout",
     "output_type": "stream",
     "text": [
      "Epoch 1/10\n"
     ]
    },
    {
     "name": "stderr",
     "output_type": "stream",
     "text": [
      "2023-11-29 23:46:57.148309: W tensorflow/core/platform/profile_utils/cpu_utils.cc:128] Failed to get CPU frequency: 0 Hz\n",
      "2023-11-29 23:46:57.360351: I tensorflow/core/grappler/optimizers/custom_graph_optimizer_registry.cc:113] Plugin optimizer for device_type GPU is enabled.\n"
     ]
    },
    {
     "name": "stdout",
     "output_type": "stream",
     "text": [
      "152/152 [==============================] - 3s 16ms/step - loss: 8.0511 - accuracy: 0.6108\n",
      "Epoch 2/10\n",
      "152/152 [==============================] - 2s 15ms/step - loss: 0.2754 - accuracy: 0.9272\n",
      "Epoch 3/10\n",
      "152/152 [==============================] - 2s 15ms/step - loss: 0.1353 - accuracy: 0.9671\n",
      "Epoch 4/10\n",
      "152/152 [==============================] - 2s 15ms/step - loss: 0.1044 - accuracy: 0.9750\n",
      "Epoch 5/10\n",
      "152/152 [==============================] - 2s 15ms/step - loss: 0.0884 - accuracy: 0.9775\n",
      "Epoch 6/10\n",
      "152/152 [==============================] - 2s 15ms/step - loss: 0.0767 - accuracy: 0.9808\n",
      "Epoch 7/10\n",
      "152/152 [==============================] - 2s 16ms/step - loss: 0.0679 - accuracy: 0.9819\n",
      "Epoch 8/10\n",
      "152/152 [==============================] - 2s 16ms/step - loss: 0.0853 - accuracy: 0.9782\n",
      "Epoch 9/10\n",
      "152/152 [==============================] - 2s 15ms/step - loss: 0.0341 - accuracy: 0.9906\n",
      "Epoch 10/10\n",
      "152/152 [==============================] - 2s 15ms/step - loss: 0.0233 - accuracy: 0.9939\n"
     ]
    }
   ],
   "source": [
    "# Define the CNN model\n",
    "model = Sequential()\n",
    "model.add(Conv2D(32, (3, 3), activation='relu', input_shape=(image_height, image_width, num_channels)))\n",
    "model.add(MaxPooling2D((2, 2)))\n",
    "model.add(Flatten())\n",
    "model.add(Dense(num_classes, activation='softmax'))\n",
    "\n",
    "model.compile(optimizer='adam', loss='categorical_crossentropy', metrics=['accuracy'])\n",
    "\n",
    "# Train the model\n",
    "model.fit(X_train_reshaped, y_train_encoded,\n",
    "          epochs=num_epochs, batch_size=batch_size)\n",
    "model.compile(optimizer='adam', loss='categorical_crossentropy',\n",
    "              metrics=['accuracy'])"
   ]
  },
  {
   "cell_type": "code",
   "execution_count": 9,
   "metadata": {},
   "outputs": [
    {
     "name": "stdout",
     "output_type": "stream",
     "text": [
      " 13/303 [>.............................] - ETA: 2s - loss: 0.0133 - accuracy: 0.9952    "
     ]
    },
    {
     "name": "stderr",
     "output_type": "stream",
     "text": [
      "2023-11-29 23:47:20.997170: I tensorflow/core/grappler/optimizers/custom_graph_optimizer_registry.cc:113] Plugin optimizer for device_type GPU is enabled.\n"
     ]
    },
    {
     "name": "stdout",
     "output_type": "stream",
     "text": [
      "303/303 [==============================] - 3s 10ms/step - loss: 0.0324 - accuracy: 0.9908\n"
     ]
    },
    {
     "data": {
      "text/plain": [
       "[0.03241579234600067, 0.990815281867981]"
      ]
     },
     "execution_count": 9,
     "metadata": {},
     "output_type": "execute_result"
    }
   ],
   "source": [
    "model.evaluate(X_train_reshaped, y_train_encoded)"
   ]
  },
  {
   "cell_type": "code",
   "execution_count": 10,
   "metadata": {},
   "outputs": [
    {
     "name": "stdout",
     "output_type": "stream",
     "text": [
      "97/97 [==============================] - 1s 10ms/step - loss: 0.8834 - accuracy: 0.9016\n"
     ]
    },
    {
     "data": {
      "text/plain": [
       "[0.8833621740341187, 0.9016181230545044]"
      ]
     },
     "execution_count": 10,
     "metadata": {},
     "output_type": "execute_result"
    }
   ],
   "source": [
    "model.evaluate(X_test_reshaped, y_test_encoded)"
   ]
  },
  {
   "cell_type": "markdown",
   "metadata": {},
   "source": [
    "### It's obvious that acrhitecture of CNN is not enough to get good results. Let's try to modify it."
   ]
  },
  {
   "cell_type": "markdown",
   "metadata": {},
   "source": [
    "### Here we built a model with comprehensive architecture. It has maxpooling and dropout layers in addition to convolutional and dense layers."
   ]
  },
  {
   "cell_type": "code",
   "execution_count": 12,
   "metadata": {},
   "outputs": [
    {
     "name": "stdout",
     "output_type": "stream",
     "text": [
      "Epoch 1/10\n"
     ]
    },
    {
     "name": "stderr",
     "output_type": "stream",
     "text": [
      "2023-11-29 23:47:57.478993: I tensorflow/core/grappler/optimizers/custom_graph_optimizer_registry.cc:113] Plugin optimizer for device_type GPU is enabled.\n"
     ]
    },
    {
     "name": "stdout",
     "output_type": "stream",
     "text": [
      "152/152 [==============================] - 6s 37ms/step - loss: 3.2319 - accuracy: 0.2706\n",
      "Epoch 2/10\n",
      "152/152 [==============================] - 5s 35ms/step - loss: 1.3149 - accuracy: 0.5112\n",
      "Epoch 3/10\n",
      "152/152 [==============================] - 5s 35ms/step - loss: 0.5136 - accuracy: 0.8388\n",
      "Epoch 4/10\n",
      "152/152 [==============================] - 5s 31ms/step - loss: 0.2370 - accuracy: 0.9295\n",
      "Epoch 5/10\n",
      "152/152 [==============================] - 5s 35ms/step - loss: 0.1836 - accuracy: 0.9492\n",
      "Epoch 6/10\n",
      "152/152 [==============================] - 5s 36ms/step - loss: 0.1141 - accuracy: 0.9653\n",
      "Epoch 7/10\n",
      "152/152 [==============================] - 6s 36ms/step - loss: 0.1268 - accuracy: 0.9647\n",
      "Epoch 8/10\n",
      "152/152 [==============================] - 5s 35ms/step - loss: 0.0890 - accuracy: 0.9745\n",
      "Epoch 9/10\n",
      "152/152 [==============================] - 5s 36ms/step - loss: 0.0846 - accuracy: 0.9768\n",
      "Epoch 10/10\n",
      "152/152 [==============================] - 6s 37ms/step - loss: 0.0697 - accuracy: 0.9799\n"
     ]
    },
    {
     "data": {
      "text/plain": [
       "<keras.callbacks.History at 0x29e85bdc0>"
      ]
     },
     "execution_count": 12,
     "metadata": {},
     "output_type": "execute_result"
    }
   ],
   "source": [
    "from keras.layers import Dropout\n",
    "\n",
    "# Define the CNN model with dropout layers\n",
    "model = Sequential()\n",
    "model.add(Conv2D(64, (3, 3), activation='relu', input_shape=(image_height, image_width, num_channels)))\n",
    "model.add(MaxPooling2D((2, 2)))\n",
    "model.add(Dropout(0.25))  # Add dropout layer\n",
    "model.add(Conv2D(128, (3, 3), activation='relu'))\n",
    "model.add(MaxPooling2D((2, 2)))\n",
    "model.add(Dropout(0.25))  # Add dropout layer\n",
    "model.add(Conv2D(256, (3, 3), activation='relu'))\n",
    "model.add(MaxPooling2D((2, 2)))\n",
    "model.add(Dropout(0.25))  # Add dropout layer\n",
    "model.add(Flatten())\n",
    "model.add(Dense(512, activation='relu'))\n",
    "model.add(Dropout(0.5))  # Add dropout layer\n",
    "model.add(Dense(256, activation='relu'))\n",
    "model.add(Dropout(0.5))  # Add dropout layer\n",
    "model.add(Dense(num_classes, activation='softmax'))\n",
    "\n",
    "model.compile(optimizer='adam', loss='categorical_crossentropy', metrics=['accuracy'])\n",
    "\n",
    "# Train the model\n",
    "model.fit(X_train_reshaped, y_train_encoded, epochs=num_epochs, batch_size=batch_size)"
   ]
  },
  {
   "cell_type": "code",
   "execution_count": 13,
   "metadata": {},
   "outputs": [
    {
     "name": "stdout",
     "output_type": "stream",
     "text": [
      "  5/303 [..............................] - ETA: 4s - loss: 0.0273 - accuracy: 0.9937      "
     ]
    },
    {
     "name": "stderr",
     "output_type": "stream",
     "text": [
      "2023-11-29 23:48:52.063050: I tensorflow/core/grappler/optimizers/custom_graph_optimizer_registry.cc:113] Plugin optimizer for device_type GPU is enabled.\n"
     ]
    },
    {
     "name": "stdout",
     "output_type": "stream",
     "text": [
      "303/303 [==============================] - 4s 14ms/step - loss: 0.0116 - accuracy: 0.9975\n"
     ]
    },
    {
     "data": {
      "text/plain": [
       "[0.01163543201982975, 0.9975232481956482]"
      ]
     },
     "execution_count": 13,
     "metadata": {},
     "output_type": "execute_result"
    }
   ],
   "source": [
    "model.evaluate(X_train_reshaped, y_train_encoded)"
   ]
  },
  {
   "cell_type": "code",
   "execution_count": 14,
   "metadata": {},
   "outputs": [
    {
     "name": "stdout",
     "output_type": "stream",
     "text": [
      "97/97 [==============================] - 1s 14ms/step - loss: 0.0497 - accuracy: 0.9790\n"
     ]
    },
    {
     "data": {
      "text/plain": [
       "[0.04968493804335594, 0.9789643883705139]"
      ]
     },
     "execution_count": 14,
     "metadata": {},
     "output_type": "execute_result"
    }
   ],
   "source": [
    "model.evaluate(X_test_reshaped, y_test_encoded)"
   ]
  },
  {
   "cell_type": "markdown",
   "metadata": {},
   "source": [
    "### As expected making more sophisticated architecture gives much higher result. Here we got 97.9% accuracy on the test set"
   ]
  },
  {
   "cell_type": "markdown",
   "metadata": {},
   "source": [
    "# Let's do exactly the same thing, but using SMOTE to oversample the minority classes"
   ]
  },
  {
   "cell_type": "code",
   "execution_count": 15,
   "metadata": {},
   "outputs": [],
   "source": [
    "X_train = pd.read_csv(\n",
    "    '/Users/ilya/Desktop/Course_work_Data_mining/CompleteDataSet/x_train_all.csv')\n",
    "\n",
    "X_test = pd.read_csv(\n",
    "    '/Users/ilya/Desktop/Course_work_Data_mining/CompleteDataSet/x_test_all.csv')\n",
    "\n",
    "y_train = pd.read_csv(\n",
    "    \"/Users/ilya/Desktop/Course_work_Data_mining/CompleteDataSet/y_train_all.csv\")\n",
    "\n",
    "y_test = pd.read_csv(\n",
    "    \"/Users/ilya/Desktop/Course_work_Data_mining/CompleteDataSet/y_test_all.csv\")"
   ]
  },
  {
   "cell_type": "code",
   "execution_count": 16,
   "metadata": {},
   "outputs": [
    {
     "data": {
      "text/plain": [
       "0\n",
       "2    2250\n",
       "1    2220\n",
       "4    1980\n",
       "3    1410\n",
       "8     540\n",
       "6     360\n",
       "9     270\n",
       "7     240\n",
       "0     210\n",
       "5     210\n",
       "Name: count, dtype: int64"
      ]
     },
     "execution_count": 16,
     "metadata": {},
     "output_type": "execute_result"
    }
   ],
   "source": [
    "y_train['0'].value_counts()"
   ]
  },
  {
   "cell_type": "markdown",
   "metadata": {},
   "source": [
    "### Using SMOTE to oversample the minority classes"
   ]
  },
  {
   "cell_type": "code",
   "execution_count": 17,
   "metadata": {},
   "outputs": [
    {
     "name": "stdout",
     "output_type": "stream",
     "text": [
      "0\n",
      "0    2250\n",
      "1    2250\n",
      "2    2250\n",
      "3    2250\n",
      "4    2250\n",
      "5    2250\n",
      "6    2250\n",
      "7    2250\n",
      "8    2250\n",
      "9    2250\n",
      "Name: count, dtype: int64\n"
     ]
    }
   ],
   "source": [
    "from imblearn.over_sampling import SMOTE\n",
    "\n",
    "# Create an instance of SMOTE\n",
    "smote = SMOTE()\n",
    "\n",
    "# Apply SMOTE to the training data\n",
    "X_train_resampled, y_train_resampled = smote.fit_resample(X_train, y_train)\n",
    "\n",
    "# Check the class distribution after oversampling\n",
    "print(y_train_resampled['0'].value_counts())\n"
   ]
  },
  {
   "cell_type": "code",
   "execution_count": 18,
   "metadata": {},
   "outputs": [],
   "source": [
    "image_height = 48\n",
    "image_width = 48\n",
    "num_channels = 1\n",
    "num_classes = 10\n",
    "num_epochs = 10\n",
    "batch_size = 64"
   ]
  },
  {
   "cell_type": "code",
   "execution_count": 19,
   "metadata": {},
   "outputs": [],
   "source": [
    "# Reshape X_train to match the expected input shape\n",
    "X_train_reshaped = np.reshape(\n",
    "    X_train, (X_train.shape[0], image_height, image_width, num_channels))\n",
    "\n",
    "# Reshape X_test to match the expected input shape\n",
    "X_test_reshaped = np.reshape(\n",
    "    X_test, (X_test.shape[0], image_height, image_width, num_channels))\n",
    "\n",
    "# Convert y_train to one-hot encoded format\n",
    "y_train_encoded = to_categorical(y_train, num_classes)\n",
    "\n",
    "# Convert y_test to one-hot encoded format\n",
    "y_test_encoded = to_categorical(y_test, num_classes)"
   ]
  },
  {
   "cell_type": "code",
   "execution_count": 20,
   "metadata": {},
   "outputs": [
    {
     "name": "stdout",
     "output_type": "stream",
     "text": [
      "Epoch 1/10\n"
     ]
    },
    {
     "name": "stderr",
     "output_type": "stream",
     "text": [
      "2023-11-29 23:49:02.508135: I tensorflow/core/grappler/optimizers/custom_graph_optimizer_registry.cc:113] Plugin optimizer for device_type GPU is enabled.\n"
     ]
    },
    {
     "name": "stdout",
     "output_type": "stream",
     "text": [
      "152/152 [==============================] - 7s 39ms/step - loss: 3.0924 - accuracy: 0.2827\n",
      "Epoch 2/10\n",
      "152/152 [==============================] - 5s 36ms/step - loss: 1.1138 - accuracy: 0.6068\n",
      "Epoch 3/10\n",
      "152/152 [==============================] - 5s 35ms/step - loss: 0.4339 - accuracy: 0.8622\n",
      "Epoch 4/10\n",
      "152/152 [==============================] - 5s 36ms/step - loss: 0.2192 - accuracy: 0.9409\n",
      "Epoch 5/10\n",
      "152/152 [==============================] - 6s 36ms/step - loss: 0.1341 - accuracy: 0.9627\n",
      "Epoch 6/10\n",
      "152/152 [==============================] - 6s 36ms/step - loss: 0.1118 - accuracy: 0.9687\n",
      "Epoch 7/10\n",
      "152/152 [==============================] - 5s 36ms/step - loss: 0.0948 - accuracy: 0.9739\n",
      "Epoch 8/10\n",
      "152/152 [==============================] - 6s 36ms/step - loss: 0.1102 - accuracy: 0.9695\n",
      "Epoch 9/10\n",
      "152/152 [==============================] - 5s 35ms/step - loss: 0.0679 - accuracy: 0.9812\n",
      "Epoch 10/10\n",
      "152/152 [==============================] - 5s 36ms/step - loss: 0.0724 - accuracy: 0.9807\n"
     ]
    },
    {
     "data": {
      "text/plain": [
       "<keras.callbacks.History at 0x3304c3fa0>"
      ]
     },
     "execution_count": 20,
     "metadata": {},
     "output_type": "execute_result"
    }
   ],
   "source": [
    "from keras.layers import Dropout\n",
    "\n",
    "# Define the CNN model with dropout layers\n",
    "model = Sequential()\n",
    "model.add(Conv2D(64, (3, 3), activation='relu', input_shape=(image_height, image_width, num_channels)))\n",
    "model.add(MaxPooling2D((2, 2)))\n",
    "model.add(Dropout(0.25))  # Add dropout layer\n",
    "model.add(Conv2D(128, (3, 3), activation='relu'))\n",
    "model.add(MaxPooling2D((2, 2)))\n",
    "model.add(Dropout(0.25))  # Add dropout layer\n",
    "model.add(Conv2D(256, (3, 3), activation='relu'))\n",
    "model.add(MaxPooling2D((2, 2)))\n",
    "model.add(Dropout(0.25))  # Add dropout layer\n",
    "model.add(Flatten())\n",
    "model.add(Dense(512, activation='relu'))\n",
    "model.add(Dropout(0.5))  # Add dropout layer\n",
    "model.add(Dense(256, activation='relu'))\n",
    "model.add(Dropout(0.5))  # Add dropout layer\n",
    "model.add(Dense(num_classes, activation='softmax'))\n",
    "\n",
    "model.compile(optimizer='adam', loss='categorical_crossentropy', metrics=['accuracy'])\n",
    "\n",
    "# Train the model\n",
    "model.fit(X_train_reshaped, y_train_encoded, epochs=num_epochs, batch_size=batch_size)"
   ]
  },
  {
   "cell_type": "code",
   "execution_count": 21,
   "metadata": {},
   "outputs": [
    {
     "name": "stdout",
     "output_type": "stream",
     "text": [
      "  1/303 [..............................] - ETA: 1:20 - loss: 0.0323 - accuracy: 0.9688"
     ]
    },
    {
     "name": "stderr",
     "output_type": "stream",
     "text": [
      "2023-11-29 23:49:58.359551: I tensorflow/core/grappler/optimizers/custom_graph_optimizer_registry.cc:113] Plugin optimizer for device_type GPU is enabled.\n"
     ]
    },
    {
     "name": "stdout",
     "output_type": "stream",
     "text": [
      "303/303 [==============================] - 4s 13ms/step - loss: 0.0139 - accuracy: 0.9964\n"
     ]
    },
    {
     "data": {
      "text/plain": [
       "[0.013910314999520779, 0.9963880181312561]"
      ]
     },
     "execution_count": 21,
     "metadata": {},
     "output_type": "execute_result"
    }
   ],
   "source": [
    "model.evaluate(X_train_reshaped, y_train_encoded)"
   ]
  },
  {
   "cell_type": "code",
   "execution_count": 22,
   "metadata": {},
   "outputs": [
    {
     "name": "stdout",
     "output_type": "stream",
     "text": [
      "97/97 [==============================] - 1s 13ms/step - loss: 0.0506 - accuracy: 0.9864\n"
     ]
    },
    {
     "data": {
      "text/plain": [
       "[0.05055157467722893, 0.9864077568054199]"
      ]
     },
     "execution_count": 22,
     "metadata": {},
     "output_type": "execute_result"
    }
   ],
   "source": [
    "model.evaluate(X_test_reshaped, y_test_encoded)"
   ]
  },
  {
   "cell_type": "markdown",
   "metadata": {},
   "source": [
    "### Here we got 98.6% accuracy on the test set due to producing synthetic data."
   ]
  },
  {
   "cell_type": "markdown",
   "metadata": {},
   "source": [
    "### As we can see generating synthetic data gives us nice improvement in accuracy which means that for NN this is a good approach"
   ]
  }
 ],
 "metadata": {
  "kernelspec": {
   "display_name": "Python 3.10 (tensorflow)",
   "language": "python",
   "name": "tensorflow"
  },
  "language_info": {
   "codemirror_mode": {
    "name": "ipython",
    "version": 3
   },
   "file_extension": ".py",
   "mimetype": "text/x-python",
   "name": "python",
   "nbconvert_exporter": "python",
   "pygments_lexer": "ipython3",
   "version": "3.10.11"
  }
 },
 "nbformat": 4,
 "nbformat_minor": 2
}
