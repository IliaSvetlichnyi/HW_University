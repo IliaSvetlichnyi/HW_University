{
 "cells": [
  {
   "cell_type": "code",
   "execution_count": 15,
   "metadata": {},
   "outputs": [],
   "source": [
    "import pandas as pd\n",
    "import numpy as np\n",
    "import matplotlib.pyplot as plt\n",
    "import seaborn as sns\n",
    "from tensorflow import keras\n",
    "from keras.models import Sequential\n",
    "from keras.layers import Conv2D, MaxPooling2D, Flatten, Dense\n",
    "from keras.utils import to_categorical"
   ]
  },
  {
   "cell_type": "code",
   "execution_count": 22,
   "metadata": {},
   "outputs": [],
   "source": [
    "X_train = pd.read_csv(\n",
    "    '/Users/ilya/Desktop/Course_work_Data_mining/CompleteDataSet/x_train_all.csv')\n",
    "\n",
    "X_test = pd.read_csv(\n",
    "    '/Users/ilya/Desktop/Course_work_Data_mining/CompleteDataSet/x_test_all.csv')\n",
    "\n",
    "y_train = pd.read_csv(\n",
    "    \"/Users/ilya/Desktop/Course_work_Data_mining/CompleteDataSet/y_train_all.csv\")\n",
    "\n",
    "y_test = pd.read_csv(\n",
    "    \"/Users/ilya/Desktop/Course_work_Data_mining/CompleteDataSet/y_test_all.csv\")"
   ]
  },
  {
   "cell_type": "code",
   "execution_count": 11,
   "metadata": {},
   "outputs": [
    {
     "data": {
      "text/plain": [
       "10"
      ]
     },
     "execution_count": 11,
     "metadata": {},
     "output_type": "execute_result"
    }
   ],
   "source": [
    "y_train[\"0\"].nunique()"
   ]
  },
  {
   "cell_type": "code",
   "execution_count": 14,
   "metadata": {},
   "outputs": [],
   "source": [
    "image_height = 48\n",
    "image_width = 48\n",
    "num_channels = 1\n",
    "num_classes = 10\n",
    "num_epochs = 10\n",
    "batch_size = 64"
   ]
  },
  {
   "cell_type": "code",
   "execution_count": 23,
   "metadata": {},
   "outputs": [],
   "source": [
    "# Reshape X_train to match the expected input shape\n",
    "X_train_reshaped = np.reshape(\n",
    "    X_train, (X_train.shape[0], image_height, image_width, num_channels))\n",
    "\n",
    "# Reshape X_test to match the expected input shape\n",
    "X_test_reshaped = np.reshape(\n",
    "    X_test, (X_test.shape[0], image_height, image_width, num_channels))\n",
    "\n",
    "# Convert y_train to one-hot encoded format\n",
    "y_train_encoded = to_categorical(y_train, num_classes)\n",
    "\n",
    "# Convert y_test to one-hot encoded format\n",
    "y_test_encoded = to_categorical(y_test, num_classes)"
   ]
  },
  {
   "cell_type": "code",
   "execution_count": 18,
   "metadata": {},
   "outputs": [
    {
     "data": {
      "text/plain": [
       "(9690, 48, 48, 1)"
      ]
     },
     "execution_count": 18,
     "metadata": {},
     "output_type": "execute_result"
    }
   ],
   "source": [
    "X_train_reshaped.shape"
   ]
  },
  {
   "cell_type": "code",
   "execution_count": 17,
   "metadata": {},
   "outputs": [
    {
     "data": {
      "text/plain": [
       "(9690, 10)"
      ]
     },
     "execution_count": 17,
     "metadata": {},
     "output_type": "execute_result"
    }
   ],
   "source": [
    "y_train_encoded.shape"
   ]
  },
  {
   "cell_type": "code",
   "execution_count": 31,
   "metadata": {},
   "outputs": [
    {
     "name": "stdout",
     "output_type": "stream",
     "text": [
      "Epoch 1/10\n"
     ]
    },
    {
     "name": "stderr",
     "output_type": "stream",
     "text": [
      "2023-11-23 12:47:58.049793: I tensorflow/core/grappler/optimizers/custom_graph_optimizer_registry.cc:113] Plugin optimizer for device_type GPU is enabled.\n"
     ]
    },
    {
     "name": "stdout",
     "output_type": "stream",
     "text": [
      "152/152 [==============================] - 3s 17ms/step - loss: 8.5633 - accuracy: 0.6021\n",
      "Epoch 2/10\n",
      "152/152 [==============================] - 2s 15ms/step - loss: 0.3394 - accuracy: 0.9052\n",
      "Epoch 3/10\n",
      "152/152 [==============================] - 2s 15ms/step - loss: 0.2178 - accuracy: 0.9451\n",
      "Epoch 4/10\n",
      "152/152 [==============================] - 2s 15ms/step - loss: 0.1475 - accuracy: 0.9598\n",
      "Epoch 5/10\n",
      "152/152 [==============================] - 2s 15ms/step - loss: 0.0961 - accuracy: 0.9747\n",
      "Epoch 6/10\n",
      "152/152 [==============================] - 2s 15ms/step - loss: 0.0961 - accuracy: 0.9769\n",
      "Epoch 7/10\n",
      "152/152 [==============================] - 2s 16ms/step - loss: 0.0798 - accuracy: 0.9814\n",
      "Epoch 8/10\n",
      "152/152 [==============================] - 2s 15ms/step - loss: 0.0896 - accuracy: 0.9779\n",
      "Epoch 9/10\n",
      "152/152 [==============================] - 2s 15ms/step - loss: 0.0728 - accuracy: 0.9826\n",
      "Epoch 10/10\n",
      "152/152 [==============================] - 2s 15ms/step - loss: 0.0818 - accuracy: 0.9806\n"
     ]
    }
   ],
   "source": [
    "# Define the CNN model\n",
    "model = Sequential()\n",
    "model.add(Conv2D(32, (3, 3), activation='relu', input_shape=(image_height, image_width, num_channels)))\n",
    "model.add(MaxPooling2D((2, 2)))\n",
    "model.add(Flatten())\n",
    "model.add(Dense(num_classes, activation='softmax'))\n",
    "\n",
    "model.compile(optimizer='adam', loss='categorical_crossentropy', metrics=['accuracy'])\n",
    "\n",
    "# Train the model\n",
    "model.fit(X_train_reshaped, y_train_encoded,\n",
    "          epochs=num_epochs, batch_size=batch_size)\n",
    "model.compile(optimizer='adam', loss='categorical_crossentropy',\n",
    "              metrics=['accuracy'])"
   ]
  },
  {
   "cell_type": "code",
   "execution_count": 32,
   "metadata": {},
   "outputs": [
    {
     "name": "stdout",
     "output_type": "stream",
     "text": [
      " 11/303 [>.............................] - ETA: 3s - loss: 0.0362 - accuracy: 0.9773"
     ]
    },
    {
     "name": "stderr",
     "output_type": "stream",
     "text": [
      "2023-11-23 12:48:23.903036: I tensorflow/core/grappler/optimizers/custom_graph_optimizer_registry.cc:113] Plugin optimizer for device_type GPU is enabled.\n"
     ]
    },
    {
     "name": "stdout",
     "output_type": "stream",
     "text": [
      "303/303 [==============================] - 3s 10ms/step - loss: 0.0721 - accuracy: 0.9778\n"
     ]
    },
    {
     "data": {
      "text/plain": [
       "[0.0720549076795578, 0.9778121709823608]"
      ]
     },
     "execution_count": 32,
     "metadata": {},
     "output_type": "execute_result"
    }
   ],
   "source": [
    "model.evaluate(X_train_reshaped, y_train_encoded)"
   ]
  },
  {
   "cell_type": "code",
   "execution_count": 33,
   "metadata": {},
   "outputs": [
    {
     "name": "stdout",
     "output_type": "stream",
     "text": [
      "97/97 [==============================] - 1s 11ms/step - loss: 1.2403 - accuracy: 0.8744\n"
     ]
    },
    {
     "data": {
      "text/plain": [
       "[1.2403024435043335, 0.8744336366653442]"
      ]
     },
     "execution_count": 33,
     "metadata": {},
     "output_type": "execute_result"
    }
   ],
   "source": [
    "model.evaluate(X_test_reshaped, y_test_encoded)"
   ]
  },
  {
   "cell_type": "code",
   "execution_count": null,
   "metadata": {},
   "outputs": [
    {
     "name": "stdout",
     "output_type": "stream",
     "text": [
      "Epoch 1/10\n"
     ]
    },
    {
     "name": "stderr",
     "output_type": "stream",
     "text": [
      "2023-11-23 12:43:08.003154: I tensorflow/core/grappler/optimizers/custom_graph_optimizer_registry.cc:113] Plugin optimizer for device_type GPU is enabled.\n"
     ]
    },
    {
     "name": "stdout",
     "output_type": "stream",
     "text": [
      "152/152 [==============================] - 5s 25ms/step - loss: 2.0460 - accuracy: 0.5852\n",
      "Epoch 2/10\n",
      "152/152 [==============================] - 4s 24ms/step - loss: 0.1958 - accuracy: 0.9531\n",
      "Epoch 3/10\n",
      "152/152 [==============================] - 4s 24ms/step - loss: 0.0749 - accuracy: 0.9812\n",
      "Epoch 4/10\n",
      "152/152 [==============================] - 4s 23ms/step - loss: 0.0736 - accuracy: 0.9806\n",
      "Epoch 5/10\n",
      "152/152 [==============================] - 4s 23ms/step - loss: 0.0523 - accuracy: 0.9878\n",
      "Epoch 6/10\n",
      "152/152 [==============================] - 4s 24ms/step - loss: 0.0371 - accuracy: 0.9912\n",
      "Epoch 7/10\n",
      "152/152 [==============================] - 4s 23ms/step - loss: 0.0159 - accuracy: 0.9967\n",
      "Epoch 8/10\n",
      "152/152 [==============================] - 4s 23ms/step - loss: 0.0020 - accuracy: 0.9999\n",
      "Epoch 9/10\n",
      "152/152 [==============================] - 3s 23ms/step - loss: 6.8834e-04 - accuracy: 1.0000\n",
      "Epoch 10/10\n",
      "152/152 [==============================] - 3s 23ms/step - loss: 4.2156e-04 - accuracy: 1.0000\n"
     ]
    },
    {
     "data": {
      "text/plain": [
       "<keras.callbacks.History at 0x36b00a950>"
      ]
     },
     "metadata": {},
     "output_type": "display_data"
    }
   ],
   "source": [
    "# 97% accuracy on the test set\n",
    "\n",
    "# Define the CNN model\n",
    "model = Sequential()\n",
    "model.add(Conv2D(32, (3, 3), activation='relu', input_shape=(image_height, image_width, num_channels)))\n",
    "model.add(MaxPooling2D((2, 2)))\n",
    "model.add(Conv2D(64, (3, 3), activation='relu'))\n",
    "model.add(MaxPooling2D((2, 2)))\n",
    "model.add(Conv2D(64, (3, 3), activation='relu'))\n",
    "model.add(Flatten())\n",
    "model.add(Dense(128, activation='relu'))\n",
    "model.add(Dense(num_classes, activation='softmax'))\n",
    "\n",
    "model.compile(optimizer='adam', loss='categorical_crossentropy', metrics=['accuracy'])\n",
    "\n",
    "# Train the model\n",
    "model.fit(X_train_reshaped, y_train_encoded, epochs=num_epochs, batch_size=batch_size)\n",
    "model.compile(optimizer='adam', loss='categorical_crossentropy', metrics=['accuracy'])\n"
   ]
  },
  {
   "cell_type": "code",
   "execution_count": 28,
   "metadata": {},
   "outputs": [
    {
     "name": "stdout",
     "output_type": "stream",
     "text": [
      "Epoch 1/10\n"
     ]
    },
    {
     "name": "stderr",
     "output_type": "stream",
     "text": [
      "2023-11-23 12:45:23.095324: I tensorflow/core/grappler/optimizers/custom_graph_optimizer_registry.cc:113] Plugin optimizer for device_type GPU is enabled.\n"
     ]
    },
    {
     "name": "stdout",
     "output_type": "stream",
     "text": [
      "152/152 [==============================] - 5s 29ms/step - loss: 3.1158 - accuracy: 0.2752\n",
      "Epoch 2/10\n",
      "152/152 [==============================] - 4s 26ms/step - loss: 1.2745 - accuracy: 0.5422\n",
      "Epoch 3/10\n",
      "152/152 [==============================] - 4s 26ms/step - loss: 0.4843 - accuracy: 0.8583\n",
      "Epoch 4/10\n",
      "152/152 [==============================] - 4s 25ms/step - loss: 0.2470 - accuracy: 0.9289\n",
      "Epoch 5/10\n",
      "152/152 [==============================] - 4s 26ms/step - loss: 0.1831 - accuracy: 0.9481\n",
      "Epoch 6/10\n",
      "152/152 [==============================] - 4s 27ms/step - loss: 0.1338 - accuracy: 0.9632\n",
      "Epoch 7/10\n",
      "152/152 [==============================] - 4s 27ms/step - loss: 0.1227 - accuracy: 0.9677\n",
      "Epoch 8/10\n",
      "152/152 [==============================] - 4s 26ms/step - loss: 0.0865 - accuracy: 0.9774\n",
      "Epoch 9/10\n",
      "152/152 [==============================] - 4s 27ms/step - loss: 0.0723 - accuracy: 0.9777\n",
      "Epoch 10/10\n",
      "152/152 [==============================] - 4s 27ms/step - loss: 0.0846 - accuracy: 0.9791\n"
     ]
    },
    {
     "data": {
      "text/plain": [
       "<keras.callbacks.History at 0x3409b05e0>"
      ]
     },
     "execution_count": 28,
     "metadata": {},
     "output_type": "execute_result"
    }
   ],
   "source": [
    "from keras.layers import Dropout\n",
    "\n",
    "# 98% accuracy on the test set\n",
    "\n",
    "# Define the CNN model with dropout layers\n",
    "model = Sequential()\n",
    "model.add(Conv2D(64, (3, 3), activation='relu', input_shape=(image_height, image_width, num_channels)))\n",
    "model.add(MaxPooling2D((2, 2)))\n",
    "model.add(Dropout(0.25))  # Add dropout layer\n",
    "model.add(Conv2D(128, (3, 3), activation='relu'))\n",
    "model.add(MaxPooling2D((2, 2)))\n",
    "model.add(Dropout(0.25))  # Add dropout layer\n",
    "model.add(Conv2D(256, (3, 3), activation='relu'))\n",
    "model.add(MaxPooling2D((2, 2)))\n",
    "model.add(Dropout(0.25))  # Add dropout layer\n",
    "model.add(Flatten())\n",
    "model.add(Dense(512, activation='relu'))\n",
    "model.add(Dropout(0.5))  # Add dropout layer\n",
    "model.add(Dense(256, activation='relu'))\n",
    "model.add(Dropout(0.5))  # Add dropout layer\n",
    "model.add(Dense(num_classes, activation='softmax'))\n",
    "\n",
    "model.compile(optimizer='adam', loss='categorical_crossentropy', metrics=['accuracy'])\n",
    "\n",
    "# Train the model\n",
    "model.fit(X_train_reshaped, y_train_encoded, epochs=num_epochs, batch_size=batch_size)"
   ]
  },
  {
   "cell_type": "code",
   "execution_count": 29,
   "metadata": {},
   "outputs": [
    {
     "name": "stdout",
     "output_type": "stream",
     "text": [
      "  5/303 [..............................] - ETA: 3s - loss: 0.0764 - accuracy: 0.9688 "
     ]
    },
    {
     "name": "stderr",
     "output_type": "stream",
     "text": [
      "2023-11-23 12:46:06.961695: I tensorflow/core/grappler/optimizers/custom_graph_optimizer_registry.cc:113] Plugin optimizer for device_type GPU is enabled.\n"
     ]
    },
    {
     "name": "stdout",
     "output_type": "stream",
     "text": [
      "303/303 [==============================] - 4s 12ms/step - loss: 0.0162 - accuracy: 0.9956\n"
     ]
    },
    {
     "data": {
      "text/plain": [
       "[0.01616240292787552, 0.9955624341964722]"
      ]
     },
     "execution_count": 29,
     "metadata": {},
     "output_type": "execute_result"
    }
   ],
   "source": [
    "model.evaluate(X_train_reshaped, y_train_encoded)"
   ]
  },
  {
   "cell_type": "code",
   "execution_count": 30,
   "metadata": {},
   "outputs": [
    {
     "name": "stdout",
     "output_type": "stream",
     "text": [
      "97/97 [==============================] - 1s 12ms/step - loss: 0.0591 - accuracy: 0.9832\n"
     ]
    },
    {
     "data": {
      "text/plain": [
       "[0.059141576290130615, 0.9831715226173401]"
      ]
     },
     "execution_count": 30,
     "metadata": {},
     "output_type": "execute_result"
    }
   ],
   "source": [
    "model.evaluate(X_test_reshaped, y_test_encoded)"
   ]
  },
  {
   "cell_type": "markdown",
   "metadata": {},
   "source": [
    "### Here we got 98.3% accuracy on the test set"
   ]
  }
 ],
 "metadata": {
  "kernelspec": {
   "display_name": "Python 3.10 (tensorflow)",
   "language": "python",
   "name": "tensorflow"
  },
  "language_info": {
   "codemirror_mode": {
    "name": "ipython",
    "version": 3
   },
   "file_extension": ".py",
   "mimetype": "text/x-python",
   "name": "python",
   "nbconvert_exporter": "python",
   "pygments_lexer": "ipython3",
   "version": "3.10.11"
  }
 },
 "nbformat": 4,
 "nbformat_minor": 2
}
