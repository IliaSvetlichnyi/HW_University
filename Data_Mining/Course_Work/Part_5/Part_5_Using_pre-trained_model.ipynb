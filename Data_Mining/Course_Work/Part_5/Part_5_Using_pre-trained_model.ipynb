{
 "cells": [
  {
   "cell_type": "code",
   "execution_count": 1,
   "metadata": {},
   "outputs": [],
   "source": [
    "import numpy as np\n",
    "import pandas as pd\n",
    "from keras.preprocessing import image\n",
    "from keras.applications.vgg16 import VGG16, preprocess_input, decode_predictions"
   ]
  },
  {
   "cell_type": "code",
   "execution_count": 8,
   "metadata": {},
   "outputs": [
    {
     "name": "stdout",
     "output_type": "stream",
     "text": [
      "WARNING:tensorflow:`input_shape` is undefined or non-square, or `rows` is not in [128, 160, 192, 224]. Weights for input shape (224, 224) will be loaded as the default.\n"
     ]
    },
    {
     "name": "stdout",
     "output_type": "stream",
     "text": [
      "Epoch 1/10\n"
     ]
    },
    {
     "name": "stderr",
     "output_type": "stream",
     "text": [
      "2023-11-23 15:21:59.112442: I tensorflow/core/grappler/optimizers/custom_graph_optimizer_registry.cc:113] Plugin optimizer for device_type GPU is enabled.\n"
     ]
    },
    {
     "name": "stdout",
     "output_type": "stream",
     "text": [
      "152/152 [==============================] - 16s 86ms/step - loss: 0.4548 - accuracy: 0.8975\n",
      "Epoch 2/10\n",
      "152/152 [==============================] - 12s 79ms/step - loss: 0.0664 - accuracy: 0.9822\n",
      "Epoch 3/10\n",
      "152/152 [==============================] - 12s 77ms/step - loss: 0.0231 - accuracy: 0.9938\n",
      "Epoch 4/10\n",
      "152/152 [==============================] - 12s 79ms/step - loss: 0.0201 - accuracy: 0.9949\n",
      "Epoch 5/10\n",
      "152/152 [==============================] - 12s 80ms/step - loss: 0.0291 - accuracy: 0.9936\n",
      "Epoch 6/10\n",
      "152/152 [==============================] - 12s 80ms/step - loss: 0.0256 - accuracy: 0.9942\n",
      "Epoch 7/10\n",
      "152/152 [==============================] - 12s 78ms/step - loss: 0.0309 - accuracy: 0.9921\n",
      "Epoch 8/10\n",
      "152/152 [==============================] - 12s 78ms/step - loss: 0.0540 - accuracy: 0.9877\n",
      "Epoch 9/10\n",
      "152/152 [==============================] - 12s 78ms/step - loss: 0.0266 - accuracy: 0.9946\n",
      "Epoch 10/10\n",
      "152/152 [==============================] - 12s 78ms/step - loss: 0.0191 - accuracy: 0.9954\n"
     ]
    },
    {
     "name": "stderr",
     "output_type": "stream",
     "text": [
      "2023-11-23 15:24:02.003635: I tensorflow/core/grappler/optimizers/custom_graph_optimizer_registry.cc:113] Plugin optimizer for device_type GPU is enabled.\n"
     ]
    },
    {
     "name": "stdout",
     "output_type": "stream",
     "text": [
      "97/97 [==============================] - 2s 14ms/step\n",
      "Accuracy: 0.9870550161812298\n"
     ]
    }
   ],
   "source": [
    "import numpy as np\n",
    "import pandas as pd\n",
    "from keras.applications.mobilenet import MobileNet, preprocess_input\n",
    "from keras.utils import to_categorical\n",
    "from tensorflow.keras.models import Model\n",
    "from keras.layers import Flatten, Dense\n",
    "from skimage.transform import resize\n",
    "from keras.layers import Dropout\n",
    "\n",
    "# Load the MobileNet model pre-trained on ImageNet data\n",
    "base_model = MobileNet(\n",
    "    weights='imagenet', include_top=False, input_shape=(96, 96, 3))\n",
    "x = base_model.output\n",
    "x = Flatten()(x)  # Flatten the output layer to one dimension\n",
    "# x = Dropout(0.5)(x)  # Add dropout for regularization\n",
    "predictions = Dense(10, activation='softmax')(x)\n",
    "\n",
    "model = Model(inputs=base_model.input, outputs=predictions)\n",
    "\n",
    "# Compile the model\n",
    "model.compile(optimizer='adam', loss='categorical_crossentropy',\n",
    "              metrics=['accuracy'])\n",
    "\n",
    "# Function to preprocess the dataset\n",
    "\n",
    "\n",
    "def preprocess_data(X, target_size):\n",
    "    # Reshape and resize the data\n",
    "    X_reshaped = np.reshape(X.values, (-1, 48, 48))\n",
    "    X_resized = np.array([resize(img, (target_size, target_size))\n",
    "                         for img in X_reshaped])\n",
    "    X_rgb = np.repeat(X_resized[..., np.newaxis], 3, axis=3)\n",
    "\n",
    "    # Preprocess the input for MobileNet\n",
    "    X_preprocessed = preprocess_input(X_rgb)\n",
    "    return X_preprocessed\n",
    "\n",
    "\n",
    "# Load your dataset\n",
    "X_train = pd.read_csv(\n",
    "    '/Users/ilya/Desktop/Course_work_Data_mining/CompleteDataSet/x_train_all.csv')\n",
    "\n",
    "X_test = pd.read_csv(\n",
    "    '/Users/ilya/Desktop/Course_work_Data_mining/CompleteDataSet/x_test_all.csv')\n",
    "\n",
    "y_train = pd.read_csv(\n",
    "    \"/Users/ilya/Desktop/Course_work_Data_mining/CompleteDataSet/y_train_all.csv\")[\"0\"]\n",
    "\n",
    "y_test = pd.read_csv(\n",
    "    \"/Users/ilya/Desktop/Course_work_Data_mining/CompleteDataSet/y_test_all.csv\")[\"0\"]\n",
    "\n",
    "# Preprocess the data\n",
    "X_train_preprocessed = preprocess_data(X_train, 96)\n",
    "X_test_preprocessed = preprocess_data(X_test, 96)\n",
    "\n",
    "# Convert y to one-hot encoding\n",
    "# Adjust 'num_classes' based on your dataset\n",
    "y_train_encoded = to_categorical(y_train, num_classes=10)\n",
    "# Adjust 'num_classes' based on your dataset\n",
    "y_test_encoded = to_categorical(y_test, num_classes=10)\n",
    "\n",
    "# Train the model\n",
    "model.fit(X_train_preprocessed, y_train_encoded, epochs=10, batch_size=64)\n",
    "\n",
    "# Evaluate the model\n",
    "predictions = model.predict(X_test_preprocessed)\n",
    "predicted_classes = np.argmax(predictions, axis=1)\n",
    "accuracy = np.mean(predicted_classes == y_test)\n",
    "\n",
    "print(f'Accuracy: {accuracy}')"
   ]
  },
  {
   "cell_type": "markdown",
   "metadata": {},
   "source": [
    "## Here we got 98.7% accuracy using pretrained model MobileNet"
   ]
  },
  {
   "cell_type": "markdown",
   "metadata": {},
   "source": [
    "### Using the same model, but with synthetic data"
   ]
  },
  {
   "cell_type": "code",
   "execution_count": 7,
   "metadata": {},
   "outputs": [
    {
     "name": "stdout",
     "output_type": "stream",
     "text": [
      "WARNING:tensorflow:`input_shape` is undefined or non-square, or `rows` is not in [128, 160, 192, 224]. Weights for input shape (224, 224) will be loaded as the default.\n",
      "Epoch 1/10\n"
     ]
    },
    {
     "name": "stderr",
     "output_type": "stream",
     "text": [
      "2023-11-23 14:12:53.018846: I tensorflow/core/grappler/optimizers/custom_graph_optimizer_registry.cc:113] Plugin optimizer for device_type GPU is enabled.\n"
     ]
    },
    {
     "name": "stdout",
     "output_type": "stream",
     "text": [
      "151/151 [==============================] - 15s 84ms/step - loss: 1.2285 - accuracy: 0.7469\n",
      "Epoch 2/10\n",
      "151/151 [==============================] - 12s 78ms/step - loss: 0.2437 - accuracy: 0.9298\n",
      "Epoch 3/10\n",
      "151/151 [==============================] - 12s 78ms/step - loss: 0.1397 - accuracy: 0.9580\n",
      "Epoch 4/10\n",
      "151/151 [==============================] - 12s 78ms/step - loss: 0.1245 - accuracy: 0.9608\n",
      "Epoch 5/10\n",
      "151/151 [==============================] - 12s 78ms/step - loss: 0.0956 - accuracy: 0.9722\n",
      "Epoch 6/10\n",
      "151/151 [==============================] - 12s 78ms/step - loss: 0.0994 - accuracy: 0.9716\n",
      "Epoch 7/10\n",
      "151/151 [==============================] - 12s 78ms/step - loss: 0.1085 - accuracy: 0.9734\n",
      "Epoch 8/10\n",
      "151/151 [==============================] - 12s 78ms/step - loss: 0.0921 - accuracy: 0.9749\n",
      "Epoch 9/10\n",
      "151/151 [==============================] - 12s 78ms/step - loss: 0.0946 - accuracy: 0.9756\n",
      "Epoch 10/10\n",
      "151/151 [==============================] - 12s 78ms/step - loss: 0.0650 - accuracy: 0.9808\n"
     ]
    },
    {
     "name": "stderr",
     "output_type": "stream",
     "text": [
      "2023-11-23 14:14:55.187241: I tensorflow/core/grappler/optimizers/custom_graph_optimizer_registry.cc:113] Plugin optimizer for device_type GPU is enabled.\n"
     ]
    },
    {
     "name": "stdout",
     "output_type": "stream",
     "text": [
      "97/97 [==============================] - 2s 14ms/step\n",
      "Accuracy: 0.9647249190938512\n"
     ]
    }
   ],
   "source": [
    "import numpy as np\n",
    "import pandas as pd\n",
    "from keras.applications.mobilenet import MobileNet, preprocess_input\n",
    "from keras.utils import to_categorical\n",
    "from tensorflow.keras.models import Model\n",
    "from keras.layers import Flatten, Dense\n",
    "from skimage.transform import resize\n",
    "from keras.layers import Dropout\n",
    "from keras.preprocessing.image import ImageDataGenerator\n",
    "\n",
    "# Data Augmentation setup\n",
    "datagen = ImageDataGenerator(\n",
    "    rotation_range=20,      # Rotate images by up to 20 degrees\n",
    "    width_shift_range=0.2,  # Shift images horizontally by up to 20% of the width\n",
    "    height_shift_range=0.2, # Shift images vertically by up to 20% of the height\n",
    "    shear_range=0.2,        # Shear images by up to 20 degrees\n",
    "    zoom_range=0.2,         # Zoom in on images by up to 20%\n",
    "    horizontal_flip=True,   # Allow horizontal flipping\n",
    "    fill_mode='nearest'     # Fill in newly created pixels\n",
    ")\n",
    "\n",
    "# Load the MobileNet model pre-trained on ImageNet data\n",
    "base_model = MobileNet(\n",
    "    weights='imagenet', include_top=False, input_shape=(96, 96, 3))\n",
    "x = base_model.output\n",
    "x = Flatten()(x)  # Flatten the output layer to one dimension\n",
    "x = Dropout(0.5)(x)  # Add dropout for regularization\n",
    "# Adjust '10' to the number of classes in your dataset\n",
    "predictions = Dense(10, activation='softmax')(x)\n",
    "\n",
    "model = Model(inputs=base_model.input, outputs=predictions)\n",
    "\n",
    "# Compile the model\n",
    "model.compile(optimizer='adam', loss='categorical_crossentropy',\n",
    "              metrics=['accuracy'])\n",
    "\n",
    "# Function to preprocess the dataset\n",
    "\n",
    "\n",
    "def preprocess_data(X, target_size):\n",
    "    # Reshape and resize the data\n",
    "    X_reshaped = np.reshape(X.values, (-1, 48, 48))\n",
    "    X_resized = np.array([resize(img, (target_size, target_size))\n",
    "                         for img in X_reshaped])\n",
    "    X_rgb = np.repeat(X_resized[..., np.newaxis], 3, axis=3)\n",
    "\n",
    "    # Preprocess the input for MobileNet\n",
    "    X_preprocessed = preprocess_input(X_rgb)\n",
    "    return X_preprocessed\n",
    "\n",
    "\n",
    "# Load your dataset\n",
    "X_train = pd.read_csv(\n",
    "    '/Users/ilya/Desktop/Course_work_Data_mining/CompleteDataSet/x_train_all.csv')\n",
    "\n",
    "X_test = pd.read_csv(\n",
    "    '/Users/ilya/Desktop/Course_work_Data_mining/CompleteDataSet/x_test_all.csv')\n",
    "\n",
    "y_train = pd.read_csv(\n",
    "    \"/Users/ilya/Desktop/Course_work_Data_mining/CompleteDataSet/y_train_all.csv\")[\"0\"]\n",
    "\n",
    "y_test = pd.read_csv(\n",
    "    \"/Users/ilya/Desktop/Course_work_Data_mining/CompleteDataSet/y_test_all.csv\")[\"0\"]\n",
    "\n",
    "# Preprocess the data\n",
    "X_train_preprocessed = preprocess_data(X_train, 96)\n",
    "X_test_preprocessed = preprocess_data(X_test, 96)\n",
    "\n",
    "# Convert y to one-hot encoding\n",
    "# Adjust 'num_classes' based on your dataset\n",
    "y_train_encoded = to_categorical(y_train, num_classes=10)\n",
    "# Adjust 'num_classes' based on your dataset\n",
    "y_test_encoded = to_categorical(y_test, num_classes=10)\n",
    "\n",
    "# Fit the model with data augmentation\n",
    "model.fit(datagen.flow(X_train_preprocessed, y_train_encoded, batch_size=64),\n",
    "          steps_per_epoch=len(X_train_preprocessed) / 64, epochs=10)\n",
    "\n",
    "# Evaluate the model\n",
    "predictions = model.predict(X_test_preprocessed)\n",
    "predicted_classes = np.argmax(predictions, axis=1)\n",
    "accuracy = np.mean(predicted_classes == y_test)\n",
    "\n",
    "print(f'Accuracy: {accuracy}')"
   ]
  },
  {
   "cell_type": "code",
   "execution_count": null,
   "metadata": {},
   "outputs": [],
   "source": []
  }
 ],
 "metadata": {
  "kernelspec": {
   "display_name": "Python 3.10 (tensorflow)",
   "language": "python",
   "name": "tensorflow"
  },
  "language_info": {
   "codemirror_mode": {
    "name": "ipython",
    "version": 3
   },
   "file_extension": ".py",
   "mimetype": "text/x-python",
   "name": "python",
   "nbconvert_exporter": "python",
   "pygments_lexer": "ipython3",
   "version": "3.10.11"
  }
 },
 "nbformat": 4,
 "nbformat_minor": 2
}
