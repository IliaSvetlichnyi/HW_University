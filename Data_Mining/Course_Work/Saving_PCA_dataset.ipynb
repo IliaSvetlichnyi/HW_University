{
 "cells": [
  {
   "cell_type": "code",
   "execution_count": 2,
   "metadata": {},
   "outputs": [],
   "source": [
    "import pandas as pd\n",
    "import numpy as np\n",
    "import matplotlib.pyplot as plt\n",
    "from sklearn.naive_bayes import GaussianNB\n",
    "from sklearn.metrics import accuracy_score, classification_report, roc_auc_score, roc_curve\n",
    "from sklearn.model_selection import train_test_split, cross_val_score, StratifiedKFold\n",
    "from sklearn.feature_selection import SelectKBest, chi2"
   ]
  },
  {
   "cell_type": "code",
   "execution_count": 3,
   "metadata": {},
   "outputs": [],
   "source": [
    "X = pd.read_csv('/Users/ilya/Desktop/Course_work_Data_mining/CompleteDataSet/x_train_all.csv')\n",
    "y = pd.read_csv('/Users/ilya/Desktop/Course_work_Data_mining/CompleteDataSet/y_train_all.csv')"
   ]
  },
  {
   "cell_type": "code",
   "execution_count": 4,
   "metadata": {},
   "outputs": [],
   "source": [
    "# Normalize the data to range [0, 1]\n",
    "x_normalized = X / 255"
   ]
  },
  {
   "cell_type": "markdown",
   "metadata": {},
   "source": [
    "### `train_test_split`"
   ]
  },
  {
   "cell_type": "code",
   "execution_count": 5,
   "metadata": {},
   "outputs": [],
   "source": [
    "# Splitting the data into training and validation sets\n",
    "X_train, X_test, y_train, y_test = train_test_split(x_normalized, y, test_size=0.2, stratify=y, random_state=42)\n"
   ]
  },
  {
   "cell_type": "code",
   "execution_count": 12,
   "metadata": {},
   "outputs": [
    {
     "name": "stdout",
     "output_type": "stream",
     "text": [
      "The best number of PCA components is 130 with an F1-score of 0.486.\n"
     ]
    }
   ],
   "source": [
    "from sklearn.decomposition import PCA\n",
    "from sklearn.naive_bayes import GaussianNB\n",
    "from sklearn.metrics import f1_score\n",
    "from sklearn.model_selection import train_test_split\n",
    "\n",
    "# Assuming X_train, X_test, y_train, and y_test are already defined and preprocessed\n",
    "\n",
    "# Dictionary to store the F1-score for each number of PCA components\n",
    "f1_scores = {}\n",
    "\n",
    "# Iterate over a range of PCA components\n",
    "for n_components in range(10, 200, 10):  # For example, from 10 to 190, in steps of 10\n",
    "    pca = PCA(n_components=n_components)\n",
    "    X_train_pca = pca.fit_transform(X_train)\n",
    "    X_test_pca = pca.transform(X_test)\n",
    "\n",
    "    # Apply Gaussian Naive Bayes\n",
    "    gnb = GaussianNB()\n",
    "    gnb.fit(X_train_pca, y_train.values.ravel())\n",
    "    y_pred_pca = gnb.predict(X_test_pca)\n",
    "\n",
    "    # Calculate F1-score\n",
    "    f1 = f1_score(y_test, y_pred_pca, average='weighted')\n",
    "    f1_scores[n_components] = f1\n",
    "\n",
    "# Find the number of PCA components that gives the maximum F1-score\n",
    "best_n_components = max(f1_scores, key=f1_scores.get)\n",
    "best_f1_score = f1_scores[best_n_components]\n",
    "\n",
    "print(f\"The best number of PCA components is {best_n_components} with an F1-score of {best_f1_score:.3f}.\")"
   ]
  },
  {
   "cell_type": "code",
   "execution_count": 19,
   "metadata": {},
   "outputs": [],
   "source": [
    "from sklearn.decomposition import PCA\n",
    "\n",
    "# Exacly this number of components gave the best F1-score\n",
    "n_components=130\n",
    "pca = PCA(n_components)\n",
    "X_train_pca = pca.fit_transform(X_train)\n",
    "X_test_pca = pca.transform(X_test)\n"
   ]
  },
  {
   "cell_type": "code",
   "execution_count": 20,
   "metadata": {},
   "outputs": [
    {
     "name": "stdout",
     "output_type": "stream",
     "text": [
      "              precision    recall  f1-score   support\n",
      "\n",
      "           0       0.54      0.48      0.51        42\n",
      "           1       0.51      0.46      0.49       444\n",
      "           2       0.64      0.26      0.37       450\n",
      "           3       0.55      0.46      0.50       282\n",
      "           4       0.48      0.72      0.58       396\n",
      "           5       1.00      0.52      0.69        42\n",
      "           6       0.25      0.83      0.39        72\n",
      "           7       1.00      0.71      0.83        48\n",
      "           8       0.40      0.55      0.46       108\n",
      "           9       0.45      0.39      0.42        54\n",
      "\n",
      "    accuracy                           0.49      1938\n",
      "   macro avg       0.58      0.54      0.52      1938\n",
      "weighted avg       0.55      0.49      0.49      1938\n",
      "\n"
     ]
    }
   ],
   "source": [
    "# Applying Gaussian Naive Bayes\n",
    "gnb = GaussianNB()\n",
    "gnb.fit(X_train_pca, y_train.values.ravel())\n",
    "y_pred_pca = gnb.predict(X_test_pca)\n",
    "\n",
    "# Calculating the metrics\n",
    "class_report_pca = classification_report(y_test, y_pred_pca)\n",
    "\n",
    "print(class_report_pca)\n"
   ]
  },
  {
   "cell_type": "code",
   "execution_count": 7,
   "metadata": {},
   "outputs": [],
   "source": [
    "X_train_pca = pd.DataFrame(X_train_pca)"
   ]
  },
  {
   "cell_type": "code",
   "execution_count": 8,
   "metadata": {},
   "outputs": [],
   "source": [
    "X_test_pca = pd.DataFrame(X_test_pca)"
   ]
  },
  {
   "cell_type": "code",
   "execution_count": 9,
   "metadata": {},
   "outputs": [],
   "source": [
    "X_train_pca.to_csv(\"X_train_pca.csv\", sep=',', index=False)\n",
    "X_test_pca.to_csv(\"X_test_pca.csv\", sep=',', index=False)"
   ]
  },
  {
   "cell_type": "code",
   "execution_count": 10,
   "metadata": {},
   "outputs": [],
   "source": [
    "# y_train.to_csv(\"y_train.csv\", sep=',', index=False)\n",
    "# y_test.to_csv(\"y_test.csv\", sep=',', index=False)"
   ]
  }
 ],
 "metadata": {
  "kernelspec": {
   "display_name": "Python 3.10 (mainvenv)",
   "language": "python",
   "name": "mainenv"
  },
  "language_info": {
   "codemirror_mode": {
    "name": "ipython",
    "version": 3
   },
   "file_extension": ".py",
   "mimetype": "text/x-python",
   "name": "python",
   "nbconvert_exporter": "python",
   "pygments_lexer": "ipython3",
   "version": "3.10.10"
  }
 },
 "nbformat": 4,
 "nbformat_minor": 2
}
